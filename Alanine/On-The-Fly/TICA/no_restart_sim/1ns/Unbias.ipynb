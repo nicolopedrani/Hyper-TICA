{
 "cells": [
  {
   "cell_type": "markdown",
   "metadata": {},
   "source": [
    "# Import needed modules and useful functions"
   ]
  },
  {
   "cell_type": "code",
   "execution_count": null,
   "metadata": {},
   "outputs": [],
   "source": [
    "#-- useful python script to compute the TICA cvs --#\n",
    "from utils import *\n",
    "\n",
    "#-- to not visualize warnings --#\n",
    "import warnings\n",
    "warnings.filterwarnings('ignore')"
   ]
  },
  {
   "cell_type": "markdown",
   "metadata": {},
   "source": [
    "# Simulation parameters "
   ]
  },
  {
   "cell_type": "code",
   "execution_count": null,
   "metadata": {},
   "outputs": [],
   "source": [
    "kb=0.008314\n",
    "#-- SIMULATION PARAMETERS --#\n",
    "sim_parameters = {\n",
    "    'temp':300, \n",
    "    'beta': 1./(300*kb),\n",
    "    'kbt': None,\n",
    "    #-- parameters to compute the fes --#\n",
    "    'blocks':2,\n",
    "    'bandwidth': 0.02,\n",
    "    'plot_max_fes' :70,\n",
    "}\n",
    "#--------------------------------------#"
   ]
  },
  {
   "cell_type": "markdown",
   "metadata": {},
   "source": [
    "# Prepare input files for plumed"
   ]
  },
  {
   "cell_type": "code",
   "execution_count": null,
   "metadata": {},
   "outputs": [],
   "source": [
    "%%time\n",
    "folder = \"unbias_A/\"\n",
    "Path(folder).mkdir(parents=True, exist_ok=True)\n",
    "\n",
    "with open(folder+\"plumed.dat\",\"w\") as file:\n",
    "    print(\"\"\"\n",
    "# vim:ft=plumed\n",
    "\n",
    "MOLINFO STRUCTURE=input.ala2.pdb\n",
    "phi: TORSION ATOMS=@phi-2 \n",
    "psi: TORSION ATOMS=@psi-2\n",
    "\n",
    "#energy\n",
    "ene: ENERGY\n",
    "\n",
    "INCLUDE FILE=plumed_descriptors.data\n",
    "\n",
    "# every 1/5 ps\n",
    "PRINT FMT=%g STRIDE=500 FILE=COLVAR ARG=*\n",
    "\n",
    "ENDPLUMED\n",
    "\"\"\",file=file)\n",
    "\n",
    "#-- run gromacs --#\n",
    "execute(\"cp script/input.* script/plumed_descriptors.data script/run_gromacs.sh \"+folder,folder=\".\")\n",
    "execute(\"./run_gromacs.sh\",folder=folder)\n",
    "\n",
    "data = load_dataframe(folder+\"COLVAR\")"
   ]
  },
  {
   "cell_type": "code",
   "execution_count": null,
   "metadata": {},
   "outputs": [],
   "source": [
    "fig,axs = plt.subplots(1,4,figsize=(16,6))\n",
    "data.plot.scatter(x=\"time\",y=\"psi\",ax=axs[0], color=\"b\")\n",
    "data.plot.scatter(x=\"time\",y=\"phi\",ax=axs[1], color=\"r\")\n",
    "plt.tight_layout()"
   ]
  },
  {
   "cell_type": "code",
   "execution_count": null,
   "metadata": {},
   "outputs": [],
   "source": [
    "fig,ax = plt.subplots(1,1,figsize=(10,8))\n",
    "load_dataframe(folder+\"COLVAR\").plot.scatter(y=\"psi\",x=\"phi\",ax=ax)\n",
    "\n",
    "fes = np.loadtxt(\"../../../../angles/fes.txt\",delimiter=\" \")\n",
    "grid0 = np.loadtxt(\"../../../../angles/grid0.txt\",delimiter=\" \")\n",
    "grid1 = np.loadtxt(\"../../../../angles/grid1.txt\",delimiter=\" \")\n",
    "bounds = np.arange(0, 60, 5.)\n",
    "c = ax.contour(grid0, grid1, fes, bounds, linewidths=3,cmap=\"gray\",linestyles=\"dashed\",\n",
    "    norm = mpl.colors.BoundaryNorm(bounds, ncolors=len(bounds)-1, clip=False), label=\"FES [Kj/mol]\",\n",
    ")\n",
    "c.clabel()\n",
    "ax.grid()\n",
    "ax.set_xlabel(r\"$\\phi$\")\n",
    "ax.set_ylabel(r\"$\\psi$\")"
   ]
  },
  {
   "cell_type": "code",
   "execution_count": null,
   "metadata": {},
   "outputs": [],
   "source": [
    "data = load_dataframe(folder+\"COLVAR\")\n",
    "descriptors_names = data.filter(regex='^d[^a-z]').columns.values\n",
    "\n",
    "fig,axs = plt.subplots(5,9,figsize=(22,10),sharey=True)\n",
    "\n",
    "for ax,desc in zip(axs.flatten(),descriptors_names):\n",
    "    data[desc].plot.hist(bins=50,alpha=1,ax=ax,legend=False,grid=True,histtype='step',linewidth=2)#,density=True)\n",
    "    data[desc].plot.hist(bins=50,alpha=0.5,ax=ax,legend=False,grid=True,color=\"grey\")#,density=True)\n",
    "    ax.set_title(desc)\n",
    "\n",
    "plt.tight_layout()"
   ]
  },
  {
   "cell_type": "code",
   "execution_count": null,
   "metadata": {},
   "outputs": [],
   "source": [
    "fig,axs = plt.subplots(5,9,figsize=(22,10))#,sharey=True)\n",
    "\n",
    "for ax,desc in zip(axs.flatten(),descriptors_names):\n",
    "    data.plot.scatter(x=\"time\",y=desc,alpha=1,ax=ax,legend=False,grid=True)#,density=True)\n",
    "    ax.set_title(desc)\n",
    "\n",
    "plt.tight_layout()"
   ]
  },
  {
   "cell_type": "code",
   "execution_count": null,
   "metadata": {},
   "outputs": [],
   "source": [
    "#-- TRAINING PARAMETERS --#\n",
    "train_parameters = {\n",
    "              'descriptors': '^d[^a-z]',\n",
    "              'lag_time':1,\n",
    "              'standardize_outputs':True,\n",
    "              'standardize_inputs': True,\n",
    "              #if reweight the timescale\n",
    "              \"reweighting\": False,\n",
    "              \"step\": 1 #\n",
    "              }\n",
    "#--------------------------------------#"
   ]
  },
  {
   "cell_type": "code",
   "execution_count": null,
   "metadata": {},
   "outputs": [],
   "source": [
    "'''\n",
    "data = load_dataframe(folder+\"COLVAR\")\n",
    "data = data[::train_parameters[\"step\"]]\n",
    "X, names, t = data.filter(regex='^d[^a-z]').values, data.filter(regex='^d[^a-z]').columns.values, data['time'].values\n",
    "\n",
    "# DEVICE\n",
    "device = torch.device(\"cuda\" if torch.cuda.is_available() else \"cpu\")\n",
    "\n",
    "# MODEL\n",
    "model = TICA_CV(n_features=X.shape[1])\n",
    "model.to(device)\n",
    "\n",
    "lags = np.linspace(1,10,10)\n",
    "timescale = np.empty(len(lags))\n",
    "\n",
    "for i,lag in enumerate(lags):\n",
    "    # TRAIN\n",
    "    model.fit(X, t, lag=lag)\n",
    "    #-- move the model back to cpu for convenience --# \n",
    "    timescale[i] = model.tica.evals_.detach().cpu().numpy()[0]-model.tica.evals_.detach().cpu().numpy()[1]\n",
    "model.to('cpu')\n",
    "'''"
   ]
  },
  {
   "cell_type": "code",
   "execution_count": null,
   "metadata": {},
   "outputs": [],
   "source": [
    "#plt.plot(lags,timescale)\n",
    "#print(timescale)\n",
    "#print(lags)"
   ]
  },
  {
   "cell_type": "markdown",
   "metadata": {},
   "source": [
    "## DeepTICA Analysis and Export"
   ]
  },
  {
   "cell_type": "code",
   "execution_count": null,
   "metadata": {},
   "outputs": [],
   "source": [
    "torch.manual_seed(21)\n",
    "\n",
    "#data\n",
    "data = load_dataframe(folder+\"COLVAR\")\n",
    "data = data[::train_parameters[\"step\"]]\n",
    "X, names, t = data[descriptors_names].values, data.[descriptors_names].columns.values, data['time'].values\n",
    "\n",
    "# DEVICE\n",
    "device = torch.device(\"cuda\" if torch.cuda.is_available() else \"cpu\")\n",
    "\n",
    "# MODEL\n",
    "model = TICA_CV(n_features=X.shape[1])\n",
    "model.to(device)\n",
    "\n",
    "# TRAIN\n",
    "model.fit(X, t, lag=train_parameters[\"lag_time\"])\n",
    "\n",
    "#-- move the model back to cpu for convenience --# \n",
    "model.to('cpu')\n",
    "\n",
    "#-- print some useful results --#\n",
    "#print(\"timescales: \",model.tica.timescales(train_parameters[\"lag_time\"]).detach().cpu().numpy()) \n",
    "print(\"eigenvalues: \",model.tica.evals_.detach().cpu().numpy())\n",
    "#print(\"gap: \", model.tica.evals_.detach().cpu().numpy()[0]-model.tica.evals_.detach().cpu().numpy()[1])\n",
    "\n",
    "model.set_params({\"feature_names\": names})"
   ]
  },
  {
   "cell_type": "code",
   "execution_count": null,
   "metadata": {},
   "outputs": [],
   "source": [
    "#print( model.plumed_input().splitlines()[:2] )\n",
    "print( model.plumed_input().splitlines()[0][8:] )"
   ]
  },
  {
   "cell_type": "markdown",
   "metadata": {},
   "source": [
    "#### Adding to data the cvs values"
   ]
  },
  {
   "cell_type": "code",
   "execution_count": null,
   "metadata": {},
   "outputs": [],
   "source": [
    "descriptors_names = data.filter(regex='^d[^a-z]').columns.values\n",
    "data_complete = load_dataframe(\"../../../../angles/COLVAR\")\n",
    "X_complete = data_complete[descriptors_names].to_numpy()"
   ]
  },
  {
   "cell_type": "code",
   "execution_count": null,
   "metadata": {},
   "outputs": [],
   "source": [
    "data[\"cv1\"] = np.transpose(model(torch.Tensor(X)).detach().cpu().numpy())[0]\n",
    "data[\"cv2\"] = np.transpose(model(torch.Tensor(X)).detach().cpu().numpy())[1]\n",
    "data[\"cv3\"] = np.transpose(model(torch.Tensor(X)).detach().cpu().numpy())[2]\n",
    "data[\"cv4\"] = np.transpose(model(torch.Tensor(X)).detach().cpu().numpy())[3]\n",
    "data_complete[\"cv1\"] = np.transpose(model(torch.Tensor(X_complete)).detach().cpu().numpy())[0]\n",
    "data_complete[\"cv2\"] = np.transpose(model(torch.Tensor(X_complete)).detach().cpu().numpy())[1]\n",
    "data_complete[\"cv3\"] = np.transpose(model(torch.Tensor(X_complete)).detach().cpu().numpy())[2]\n",
    "data_complete[\"cv4\"] = np.transpose(model(torch.Tensor(X_complete)).detach().cpu().numpy())[3]"
   ]
  },
  {
   "cell_type": "code",
   "execution_count": null,
   "metadata": {},
   "outputs": [],
   "source": [
    "#-- estimation of Free Energy Surface --#\n",
    "s = data.filter(regex=\"^cv\").to_numpy()\n",
    "logweight=np.zeros(s.shape[0])\n",
    "\n",
    "fig, ax = plt.subplots(figsize=(6,6))\n",
    "cvs_fes=[]\n",
    "for i in range(2):\n",
    "    fes,grid,bounds,error = compute_fes(s[:,i], weights=np.exp(logweight),\n",
    "                                        temp=sim_parameters[\"temp\"],\n",
    "                                        kbt=sim_parameters[\"kbt\"],\n",
    "                                        blocks=sim_parameters[\"blocks\"],\n",
    "                                        bandwidth=sim_parameters[\"bandwidth\"],scale_by='range',\n",
    "                                        plot=True, plot_max_fes=sim_parameters[\"plot_max_fes\"], ax = ax)\n",
    "    cvs_fes.append(fes)\n",
    "ax.legend([\"F(cv1) estimate\",\"F(cv2) estimate\"])   \n",
    "ax.grid()\n",
    "plt.tight_layout()\n",
    "ax.set_xlabel(r\"$(cv1,cv2)$\")\n",
    "ax.set_ylabel(\"FES [Kj/mol]\")\n",
    "\n",
    "plt.show()"
   ]
  },
  {
   "cell_type": "code",
   "execution_count": null,
   "metadata": {},
   "outputs": [],
   "source": [
    "fig,axs = plt.subplots(1,4,figsize=(18,6),sharey=True)\n",
    "data.plot.hist(y=\"cv1\",bins=20,ax=axs[0],density=True,color=\"b\",label=\"cv1 data\")\n",
    "data.plot.hist(y=\"cv2\",bins=20,ax=axs[1],density=True,color=\"b\",label=\"cv2 data\")\n",
    "data.plot.hist(y=\"cv3\",bins=20,ax=axs[2],density=True,color=\"b\",label=\"cv3 data\")\n",
    "data.plot.hist(y=\"cv4\",bins=20,ax=axs[3],density=True,color=\"b\",label=\"cv4 data\")\n",
    "data_complete.plot.hist(y=\"cv1\",bins=20,ax=axs[0],density=True,color=\"r\",label=\"cv1 data complete\")\n",
    "data_complete.plot.hist(y=\"cv2\",bins=20,ax=axs[1],density=True,color=\"r\",label=\"cv2 data complete\")\n",
    "data_complete.plot.hist(y=\"cv3\",bins=20,ax=axs[2],density=True,color=\"r\",label=\"cv3 data complete\")\n",
    "data_complete.plot.hist(y=\"cv4\",bins=20,ax=axs[3],density=True,color=\"r\",label=\"cv4 data complete\")"
   ]
  },
  {
   "cell_type": "markdown",
   "metadata": {},
   "source": [
    "We can also plot the correlation (*Pearson* correlation ,which simply means normed correlation) of the Deep-TICA cvs with the descriptors"
   ]
  },
  {
   "cell_type": "code",
   "execution_count": null,
   "metadata": {},
   "outputs": [],
   "source": [
    "fig,axs = plt.subplots(4,1,figsize=(16,24),sharex=True)\n",
    "for k,cv in enumerate([\"cv1\",\"cv2\",\"cv3\",\"cv4\"]):\n",
    "    cols = [cv]\n",
    "    cols.extend(data.filter(regex=train_parameters[\"descriptors\"]).columns)\n",
    "    corr = data[cols].corr(method='pearson')\n",
    "    corr[cv].drop(cv).plot(kind='bar', ax=axs[k], rot=35, color=\"b\",label=r\"$C(tica|desc)$\")\n",
    "    axs[k].set_title('Correlation with TICA '+str(k+1))\n",
    "plt.show()"
   ]
  },
  {
   "cell_type": "code",
   "execution_count": null,
   "metadata": {},
   "outputs": [],
   "source": [
    "fig,axs = plt.subplots(1,4,figsize=(18,6))\n",
    "for k,ax in enumerate(axs):\n",
    "    data.plot.hexbin(y=\"psi\",x=\"phi\",C=\"cv\"+str(k+1),cmap=\"Set1\",ax=ax)\n",
    "    ax.set_xlabel(r\"$\\phi$\")\n",
    "    ax.set_ylabel(r\"$\\psi$\")\n",
    "    ax.set_title('TICA '+str(k+1))\n",
    "plt.tight_layout()\n",
    "fig,axs = plt.subplots(1,4,figsize=(18,6))\n",
    "for k,ax in enumerate(axs):\n",
    "    data_complete.plot.hexbin(y=\"psi\",x=\"phi\",C=\"cv\"+str(k+1),cmap=\"Set1\",ax=ax)\n",
    "    ax.set_xlabel(r\"$\\phi$\")\n",
    "    ax.set_ylabel(r\"$\\psi$\")\n",
    "    ax.set_title('TICA '+str(k+1))\n",
    "plt.tight_layout()"
   ]
  },
  {
   "cell_type": "code",
   "execution_count": null,
   "metadata": {},
   "outputs": [],
   "source": [
    "names = [\"psi\",\"phi\"]\n",
    "fig,axs = plt.subplots(1,4,figsize=(16,4))\n",
    "for i,ax in enumerate(axs):\n",
    "    data.plot.scatter(y=names[i],x=\"time\",c=\"cv1\",cmap=\"fessa\",ax=ax)\n",
    "plt.tight_layout()\n",
    "fig,axs = plt.subplots(1,4,figsize=(16,4))\n",
    "for i,ax in enumerate(axs):\n",
    "    data.plot.scatter(y=names[i],x=\"time\",c=\"cv2\",cmap=\"fessa\",ax=ax)\n",
    "plt.tight_layout()"
   ]
  },
  {
   "cell_type": "markdown",
   "metadata": {},
   "source": [
    "### Orthogonality  \n",
    "We said that the **ICs** must satisfy two conditions. The first one is that they are uncorrelated, which means that $\\int d \\vec x \\psi_1(\\vec x) \\psi_2(\\vec x) e^{-\\beta U(\\vec x)} = 0$.  \n",
    "But their scalar product on the data will lead to a slightly different result, in this case approximately $0$, but not perfectly $0$"
   ]
  },
  {
   "cell_type": "code",
   "execution_count": null,
   "metadata": {},
   "outputs": [],
   "source": [
    "Boltzmann_product(model,model,X,j=0,k=1)"
   ]
  },
  {
   "cell_type": "markdown",
   "metadata": {},
   "source": [
    "# Prepare the next simulation input files\n",
    "### Plumed"
   ]
  },
  {
   "cell_type": "markdown",
   "metadata": {},
   "source": [
    "## First possibility : excluded region"
   ]
  },
  {
   "cell_type": "code",
   "execution_count": null,
   "metadata": {},
   "outputs": [],
   "source": [
    "## excluded region\n",
    "data = load_dataframe(folder+\"COLVAR\")\n",
    "descriptors_names = data.filter(regex='^d[^a-z]').columns.values\n",
    "excluded_region = \"xx0: CUSTOM ...\\n\\tPERIODIC=NO\\n\\tARG=\"\n",
    "for desc in descriptors_names:\n",
    "    excluded_region += desc\n",
    "    if desc is not descriptors_names[-1]:\n",
    "        excluded_region += \",\"\n",
    "excluded_region += \"\\n\\tVAR=\"\n",
    "\n",
    "for i in range(len(descriptors_names)):\n",
    "    var = \"x\"+str(i)\n",
    "    excluded_region += var\n",
    "    if i is not len(descriptors_names)-1:\n",
    "        excluded_region += \",\"\n",
    "\n",
    "excluded_region += \"\\n\\tFUNC=\"\n",
    "\n",
    "for i,desc in enumerate(descriptors_names):\n",
    "    func = \"step((x\"+str(i)+\"-\"+str(np.round(min(data[desc]),3))+\")*(x\"+str(i)+\"-\"+str(np.round(max(data[desc]),3))+\"))\"\n",
    "    excluded_region += func\n",
    "    if desc is not descriptors_names[-1]:\n",
    "        excluded_region += \"+\" \n",
    "\n",
    "excluded_region += \"\\n...\"\n",
    "\n",
    "print(excluded_region)"
   ]
  },
  {
   "cell_type": "code",
   "execution_count": null,
   "metadata": {},
   "outputs": [],
   "source": [
    "folder = \"unbias_A/bias1/\"\n",
    "Path(folder).mkdir(parents=True, exist_ok=True)\n",
    "\n",
    "with open(folder+\"plumed.dat\",\"w\") as file:\n",
    "    print(\"\"\"\n",
    "# vim:ft=plumed\n",
    "\n",
    "MOLINFO STRUCTURE=input.ala2.pdb\n",
    "phi: TORSION ATOMS=@phi-2 \n",
    "psi: TORSION ATOMS=@psi-2\n",
    "\n",
    "#energy\n",
    "ene: ENERGY\n",
    "\n",
    "# include descriptors\n",
    "INCLUDE FILE=plumed_descriptors.data\n",
    "# define cv\n",
    "tica_cv1_0\"\"\"+\n",
    "model.plumed_input().splitlines()[0][8:]+\"\"\"\\ntica_cv2_0\"\"\"+model.plumed_input().splitlines()[1][8:]\n",
    "+\"\"\"\n",
    "#excluded region\n",
    "\"\"\"+\n",
    "excluded_region\n",
    "+\"\"\"\n",
    "# bias \n",
    "opes: OPES_METAD ARG=tica_cv1_0,tica_cv2_0 TEMP=300 PACE=500 EXCLUDED_REGION=xx0 FILE=KERNELS BARRIER=30 STATE_WFILE=RestartKernels STATE_WSTRIDE=500*10\n",
    " \n",
    "# every 1 ps\n",
    "PRINT FMT=%g STRIDE=500 FILE=COLVAR ARG=*\n",
    "\n",
    "ENDPLUMED\n",
    "\"\"\",file=file)\n",
    "\n",
    "#-- run gromacs --#\n",
    "execute(\"cp script/input.* script/plumed_descriptors.data script/run_gromacs.sh \"+folder,folder=\".\")"
   ]
  }
 ],
 "metadata": {
  "kernelspec": {
   "display_name": "Python 3 (ipykernel)",
   "language": "python",
   "name": "python3"
  },
  "language_info": {
   "codemirror_mode": {
    "name": "ipython",
    "version": 3
   },
   "file_extension": ".py",
   "mimetype": "text/x-python",
   "name": "python",
   "nbconvert_exporter": "python",
   "pygments_lexer": "ipython3",
   "version": "3.8.5"
  }
 },
 "nbformat": 4,
 "nbformat_minor": 4
}
