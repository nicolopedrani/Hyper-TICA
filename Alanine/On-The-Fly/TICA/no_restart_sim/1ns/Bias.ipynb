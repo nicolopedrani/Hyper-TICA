{
 "cells": [
  {
   "cell_type": "markdown",
   "metadata": {},
   "source": [
    "# Import needed modules and useful functions"
   ]
  },
  {
   "cell_type": "code",
   "execution_count": null,
   "metadata": {},
   "outputs": [],
   "source": [
    "#-- useful python script for training the DeepTICA cvs --#\n",
    "from utils import *\n",
    "\n",
    "#-- to not visualize warnings --#\n",
    "import warnings\n",
    "warnings.filterwarnings('ignore')"
   ]
  },
  {
   "cell_type": "markdown",
   "metadata": {},
   "source": [
    "# Simulation parameters "
   ]
  },
  {
   "cell_type": "code",
   "execution_count": null,
   "metadata": {},
   "outputs": [],
   "source": [
    "kb=0.008314\n",
    "#-- SIMULATION PARAMETERS --#\n",
    "sim_parameters = {\n",
    "    'temp':300, \n",
    "    'beta': 1./(300*kb),\n",
    "    'kbt': None,\n",
    "    #-- parameters to compute the fes --#\n",
    "    'blocks':2,\n",
    "    'bandwidth': 0.02,\n",
    "    'plot_max_fes' :70,\n",
    "}\n",
    "#--------------------------------------#"
   ]
  },
  {
   "cell_type": "markdown",
   "metadata": {},
   "source": [
    "# Prepare input files for plumed"
   ]
  },
  {
   "cell_type": "code",
   "execution_count": null,
   "metadata": {},
   "outputs": [],
   "source": [
    "%%time\n",
    "folder = \"unbias_A/bias1/\"\n",
    "execute(\"./run_gromacs.sh\",folder=folder)"
   ]
  },
  {
   "cell_type": "code",
   "execution_count": null,
   "metadata": {},
   "outputs": [],
   "source": [
    "data = load_dataframe(folder+\"COLVAR\")\n",
    "olddata = load_dataframe(\"unbias_A/COLVAR\")\n",
    "descriptors_names = data.filter(regex='^d[^a-z]').columns.values\n",
    "data_complete = load_dataframe(\"../../../../angles/COLVAR\")\n",
    "X_complete = data_complete[descriptors_names].to_numpy()\n",
    "descriptors_names.append(\"tica_cv1_0\"); descriptors_names.append(\"tica_cv2_0\") "
   ]
  },
  {
   "cell_type": "code",
   "execution_count": null,
   "metadata": {},
   "outputs": [],
   "source": [
    "fig,ax = plt.subplots(1,1,figsize=(10,8))\n",
    "#load_dataframe(folder+\"COLVAR\").plot.scatter(y=\"psi\",x=\"phi\",ax=ax)\n",
    "data.plot.scatter(y=\"psi\",x=\"phi\",ax=ax)\n",
    "\n",
    "fes = np.loadtxt(\"../../../../angles/fes.txt\",delimiter=\" \")\n",
    "grid0 = np.loadtxt(\"../../../../angles/grid0.txt\",delimiter=\" \")\n",
    "grid1 = np.loadtxt(\"../../../../angles/grid1.txt\",delimiter=\" \")\n",
    "bounds = np.arange(0, 60, 5.)\n",
    "c = ax.contour(grid0, grid1, fes, bounds, linewidths=3,cmap=\"gray\",linestyles=\"dashed\",\n",
    "    norm = mpl.colors.BoundaryNorm(bounds, ncolors=len(bounds)-1, clip=False), label=\"FES [Kj/mol]\",\n",
    ")\n",
    "c.clabel()\n",
    "ax.grid()\n",
    "ax.set_xlabel(r\"$\\phi$\")\n",
    "ax.set_ylabel(r\"$\\psi$\")"
   ]
  },
  {
   "cell_type": "code",
   "execution_count": null,
   "metadata": {},
   "outputs": [],
   "source": [
    "fig,axs = plt.subplots(1,4,figsize=(16,6))\n",
    "data.plot.scatter(x=\"time\",y=\"psi\",ax=axs[0], color=\"b\")\n",
    "data.plot.scatter(x=\"time\",y=\"phi\",ax=axs[1], color=\"r\")\n",
    "plt.tight_layout()"
   ]
  },
  {
   "cell_type": "code",
   "execution_count": null,
   "metadata": {},
   "outputs": [],
   "source": [
    "#data = load_dataframe(folder+\"COLVAR\")\n",
    "descriptors_names = data.filter(regex='^p').columns.values\n",
    "\n",
    "fig,axs = plt.subplots(1,2,figsize=(8,4),sharey=True)\n",
    "\n",
    "for ax,desc in zip(axs.flatten(),descriptors_names):\n",
    "    data[desc].plot.hist(bins=50,alpha=1,ax=ax,legend=False,grid=True,histtype='step',linewidth=2,density=True)\n",
    "    data[desc].plot.hist(bins=50,alpha=0.5,ax=ax,legend=False,grid=True,color=\"grey\",density=True)\n",
    "    ax.set_title(desc)\n",
    "\n",
    "fig,axs = plt.subplots(1,2,figsize=(8,4))\n",
    "\n",
    "for ax,desc in zip(axs.flatten(),descriptors_names):\n",
    "    data[::10].plot.scatter(x=\"time\",y=desc,alpha=1,ax=ax,legend=False,grid=True,linewidth=2,marker=\"^\")\n",
    "    data[::10].plot.line(x=\"time\",y=desc,alpha=1,ax=ax,legend=False,grid=True,color=\"grey\")\n",
    "    ax.set_title(desc)\n",
    "\n",
    "plt.tight_layout()"
   ]
  },
  {
   "cell_type": "code",
   "execution_count": null,
   "metadata": {},
   "outputs": [],
   "source": [
    "#gridspec_fes(s,logweight,sim_parameters)"
   ]
  },
  {
   "cell_type": "code",
   "execution_count": null,
   "metadata": {},
   "outputs": [],
   "source": [
    "#data = load_dataframe(folder+\"COLVAR\")\n",
    "descriptors_names = data.filter(regex='^d[^a-z]').columns.values\n",
    "\n",
    "fig,axs = plt.subplots(5,9,figsize=(22,10),sharey=True)\n",
    "\n",
    "for ax,desc in zip(axs.flatten(),descriptors_names):\n",
    "    data[desc].plot.hist(bins=50,alpha=1,ax=ax,legend=False,grid=True,histtype='step',linewidth=2)#,density=True)\n",
    "    data[desc].plot.hist(bins=50,alpha=0.5,ax=ax,legend=False,grid=True,color=\"grey\")#,density=True)\n",
    "    ax.set_title(desc)\n",
    "\n",
    "plt.tight_layout()"
   ]
  },
  {
   "cell_type": "code",
   "execution_count": null,
   "metadata": {},
   "outputs": [],
   "source": [
    "fig,axs = plt.subplots(5,9,figsize=(22,10))#,sharey=True)\n",
    "\n",
    "for ax,desc in zip(axs.flatten(),descriptors_names):\n",
    "    data.plot.scatter(x=\"time\",y=desc,alpha=1,ax=ax,legend=False,grid=True)#,density=True)\n",
    "    ax.set_title(desc)\n",
    "\n",
    "plt.tight_layout()"
   ]
  },
  {
   "cell_type": "code",
   "execution_count": null,
   "metadata": {},
   "outputs": [],
   "source": [
    "## plot excluded region\n",
    "data.plot.scatter(x=\"time\",y=\"xx0\")"
   ]
  },
  {
   "cell_type": "code",
   "execution_count": null,
   "metadata": {},
   "outputs": [],
   "source": [
    "#-- TRAINING PARAMETERS --#\n",
    "train_parameters = {\n",
    "              'descriptors': '^d[^a-z]',\n",
    "              'lag_time':1,\n",
    "              'standardize_outputs':True,\n",
    "              'standardize_inputs': True,\n",
    "              #if reweight the timescale\n",
    "              \"reweighting\": True,\n",
    "              \"step\": 5 #se prendo tutti i valori fallisce il cholesky decomposition.. issue con pytorch\n",
    "              }\n",
    "#--------------------------------------#"
   ]
  },
  {
   "cell_type": "code",
   "execution_count": null,
   "metadata": {},
   "outputs": [],
   "source": [
    "'''\n",
    "data = load_dataframe(folder+\"COLVAR\")\n",
    "data = data[::train_parameters[\"step\"]]\n",
    "X, names, t = data.filter(regex='^d[^a-z]').values, data.filter(regex='^d[^a-z]').columns.values, data['time'].values\n",
    "logweights = data[\"opes.bias\"].to_numpy()*sim_parameters[\"beta\"]\n",
    "# DEVICE\n",
    "device = torch.device(\"cuda\" if torch.cuda.is_available() else \"cpu\")\n",
    "\n",
    "# MODEL\n",
    "model = TICA_CV(n_features=X.shape[1])\n",
    "model.to(device)\n",
    "\n",
    "lags = np.linspace(1,10,10)\n",
    "timescale = np.empty(len(lags))\n",
    "\n",
    "for i,lag in enumerate(lags):\n",
    "    # TRAIN\n",
    "    model.fit(X, t, lag=lag, logweights=logweights)\n",
    "    #-- move the model back to cpu for convenience --# \n",
    "    timescale[i] = model.tica.evals_.detach().cpu().numpy()[0]-model.tica.evals_.detach().cpu().numpy()[1]\n",
    "model.to('cpu')\n",
    "'''"
   ]
  },
  {
   "cell_type": "code",
   "execution_count": null,
   "metadata": {},
   "outputs": [],
   "source": [
    "#plt.plot(lags,timescale)\n",
    "#print(timescale)\n",
    "#print(lags)"
   ]
  },
  {
   "cell_type": "markdown",
   "metadata": {},
   "source": [
    "## DeepTICA Analysis and Export"
   ]
  },
  {
   "cell_type": "code",
   "execution_count": null,
   "metadata": {},
   "outputs": [],
   "source": [
    "torch.manual_seed(21)\n",
    "data = load_dataframe(folder+\"COLVAR\")\n",
    "data = data[:]\n",
    "X, names, t = data.filter(regex='^d[^a-z]').values, data.filter(regex='^d[^a-z]').columns.values, data['time'].values\n",
    "\n",
    "# DEVICE\n",
    "device = torch.device(\"cuda\" if torch.cuda.is_available() else \"cpu\")\n",
    "\n",
    "# MODEL\n",
    "model = TICA_CV(n_features=X.shape[1])\n",
    "model.to(device)\n",
    "\n",
    "# alternative method to not modify temperature but only rescale the bias\n",
    "logweight = data[\"opes.bias\"].to_numpy()-max(data[\"opes.bias\"].to_numpy())\n",
    "logweight /= np.abs(min(logweight))\n",
    "logweight *= sim_parameters[\"beta\"]\n",
    "dt = t[1]-t[0]\n",
    "tprime = dt * np.cumsum(np.exp(logweight))\n",
    "\n",
    "#reset logweights value\n",
    "logweight = ( data[\"opes.bias\"].to_numpy()-max(data[\"opes.bias\"].to_numpy()) )*sim_parameters[\"beta\"]"
   ]
  },
  {
   "cell_type": "code",
   "execution_count": null,
   "metadata": {},
   "outputs": [],
   "source": [
    "# TRAIN\n",
    "model.fit(X, t, lag=train_parameters[\"lag_time\"],logweights=logweight,tprime=tprime)\n",
    "\n",
    "#-- move the model back to cpu for convenience --# \n",
    "model.to('cpu')\n",
    "\n",
    "#-- print some useful results --#\n",
    "#print(\"timescales: \",model.tica.timescales(train_parameters[\"lag_time\"]).detach().cpu().numpy()) \n",
    "print(\"eigenvalues: \",model.tica.evals_.detach().cpu().numpy())\n",
    "#print(\"gap: \", model.tica.evals_.detach().cpu().numpy()[0]-model.tica.evals_.detach().cpu().numpy()[1])\n",
    "\n",
    "model.set_params({\"feature_names\": names})\n",
    "print( model.plumed_input().splitlines()[:2] )"
   ]
  },
  {
   "cell_type": "code",
   "execution_count": null,
   "metadata": {},
   "outputs": [],
   "source": [
    "X = data.filter(regex=train_parameters[\"descriptors\"]).values\n",
    "data[\"cv1\"] = np.transpose(model(torch.Tensor(X)).detach().cpu().numpy())[0]\n",
    "data[\"cv2\"] = np.transpose(model(torch.Tensor(X)).detach().cpu().numpy())[1]\n",
    "data[\"cv3\"] = np.transpose(model(torch.Tensor(X)).detach().cpu().numpy())[2]\n",
    "data[\"cv4\"] = np.transpose(model(torch.Tensor(X)).detach().cpu().numpy())[3]\n",
    "data_complete[\"cv1\"] = np.transpose(model(torch.Tensor(X_complete)).detach().cpu().numpy())[0]\n",
    "data_complete[\"cv2\"] = np.transpose(model(torch.Tensor(X_complete)).detach().cpu().numpy())[1]\n",
    "data_complete[\"cv3\"] = np.transpose(model(torch.Tensor(X_complete)).detach().cpu().numpy())[2]\n",
    "data_complete[\"cv4\"] = np.transpose(model(torch.Tensor(X_complete)).detach().cpu().numpy())[3]"
   ]
  },
  {
   "cell_type": "code",
   "execution_count": null,
   "metadata": {},
   "outputs": [],
   "source": [
    "#-- estimation of Free Energy Surface --#\n",
    "s = data.filter(regex=\"^cv\").to_numpy()\n",
    "\n",
    "fig, ax = plt.subplots(figsize=(6,6))\n",
    "cvs_fes=[]\n",
    "for i in range(2):\n",
    "    fes,grid,bounds,error = compute_fes(s[:,i], weights=np.exp(logweight),\n",
    "                                        temp=sim_parameters[\"temp\"],\n",
    "                                        kbt=sim_parameters[\"kbt\"],\n",
    "                                        blocks=sim_parameters[\"blocks\"],\n",
    "                                        bandwidth=sim_parameters[\"bandwidth\"],scale_by='range',\n",
    "                                        plot=True, plot_max_fes=sim_parameters[\"plot_max_fes\"], ax = ax)\n",
    "    cvs_fes.append(fes)\n",
    "ax.legend([\"F(cv1) estimate\",\"F(cv2) estimate\"])   \n",
    "ax.grid()\n",
    "plt.tight_layout()\n",
    "ax.set_xlabel(r\"$(cv1,cv2)$\")\n",
    "ax.set_ylabel(\"FES [Kj/mol]\")\n",
    "\n",
    "plt.show()"
   ]
  },
  {
   "cell_type": "code",
   "execution_count": null,
   "metadata": {},
   "outputs": [],
   "source": [
    "#-- estimation of Free Energy Surface --#\n",
    "s = data.filter(regex=\"^tica_cv\").to_numpy()\n",
    "\n",
    "fig, ax = plt.subplots(figsize=(6,6))\n",
    "\n",
    "for i in range(2):\n",
    "    fes,grid,bounds,error = compute_fes(s[:,i], weights=np.exp(logweight),\n",
    "                                        temp=sim_parameters[\"temp\"],\n",
    "                                        kbt=sim_parameters[\"kbt\"],\n",
    "                                        blocks=sim_parameters[\"blocks\"],\n",
    "                                        bandwidth=sim_parameters[\"bandwidth\"],scale_by='range',\n",
    "                                        plot=True, plot_max_fes=sim_parameters[\"plot_max_fes\"], ax = ax)\n",
    "    cvs_fes.append(fes)\n",
    "ax.legend([\"F(cv1) estimate\",\"F(cv2) estimate\"])   \n",
    "ax.grid()\n",
    "plt.tight_layout()\n",
    "ax.set_xlabel(r\"$(cv1,cv2)$\")\n",
    "ax.set_ylabel(\"FES [Kj/mol]\")\n",
    "\n",
    "plt.show()"
   ]
  },
  {
   "cell_type": "code",
   "execution_count": null,
   "metadata": {},
   "outputs": [],
   "source": [
    "fig,axs = plt.subplots(1,4,figsize=(18,6),sharey=True)\n",
    "data.plot.hist(y=\"cv1\",bins=20,ax=axs[0],density=True,color=\"b\",label=\"cv1 data\")\n",
    "data.plot.hist(y=\"cv2\",bins=20,ax=axs[1],density=True,color=\"b\",label=\"cv2 data\")\n",
    "data.plot.hist(y=\"cv3\",bins=20,ax=axs[2],density=True,color=\"b\",label=\"cv3 data\")\n",
    "data.plot.hist(y=\"cv4\",bins=20,ax=axs[3],density=True,color=\"b\",label=\"cv4 data\")\n",
    "data_complete.plot.hist(y=\"cv1\",bins=20,ax=axs[0],density=True,histtype='step',color=\"r\",linewidth=2,label=\"cv1 data complete\")\n",
    "data_complete.plot.hist(y=\"cv2\",bins=20,ax=axs[1],density=True,histtype='step',color=\"r\",linewidth=2,label=\"cv2 data complete\")\n",
    "data_complete.plot.hist(y=\"cv3\",bins=20,ax=axs[2],density=True,histtype='step',color=\"r\",linewidth=2,label=\"cv3 data complete\")\n",
    "data_complete.plot.hist(y=\"cv4\",bins=20,ax=axs[3],density=True,histtype='step',color=\"r\",linewidth=2,label=\"cv4 data complete\")"
   ]
  },
  {
   "cell_type": "markdown",
   "metadata": {},
   "source": [
    "We can also plot the correlation (*Pearson* correlation ,which simply means normed correlation) of the Deep-TICA cvs with the descriptors"
   ]
  },
  {
   "cell_type": "code",
   "execution_count": null,
   "metadata": {},
   "outputs": [],
   "source": [
    "fig,axs = plt.subplots(4,1,figsize=(16,24),sharex=True)\n",
    "for k,cv in enumerate([\"cv1\",\"cv2\",\"cv3\",\"cv4\"]):\n",
    "    cols = [cv]\n",
    "    cols.extend(data.filter(regex=train_parameters[\"descriptors\"]).columns)\n",
    "    corr = data[cols].corr(method='pearson')\n",
    "    corr[cv].drop(cv).plot(kind='bar', ax=axs[k], rot=35, color=\"b\",label=r\"$C(tica|desc)$\")\n",
    "    axs[k].set_title('Correlation with TICA '+str(k+1))\n",
    "plt.show()"
   ]
  },
  {
   "cell_type": "code",
   "execution_count": null,
   "metadata": {},
   "outputs": [],
   "source": [
    "fig,axs = plt.subplots(1,4,figsize=(18,6))\n",
    "for k,ax in enumerate(axs):\n",
    "    data.plot.scatter(y=\"psi\",x=\"phi\",c=\"cv\"+str(k+1),cmap=\"Set1\",ax=ax)\n",
    "    ax.set_xlabel(r\"$\\phi$\")\n",
    "    ax.set_ylabel(r\"$\\psi$\")\n",
    "    ax.set_title('TICA '+str(k+1))\n",
    "plt.tight_layout()\n",
    "fig,axs = plt.subplots(1,4,figsize=(18,6))\n",
    "for k,ax in enumerate(axs):\n",
    "    data_complete.plot.scatter(y=\"psi\",x=\"phi\",c=\"cv\"+str(k+1),cmap=\"Set1\",ax=ax)\n",
    "    ax.set_xlabel(r\"$\\phi$\")\n",
    "    ax.set_ylabel(r\"$\\psi$\")\n",
    "    ax.set_title('TICA '+str(k+1))\n",
    "plt.tight_layout()"
   ]
  },
  {
   "cell_type": "code",
   "execution_count": null,
   "metadata": {},
   "outputs": [],
   "source": [
    "names = [\"psi\",\"phi\",\"omega\",\"theta\"]\n",
    "fig,axs = plt.subplots(1,4,figsize=(16,4))\n",
    "for i,ax in enumerate(axs):\n",
    "    data.plot.scatter(y=names[i],x=\"time\",c=\"cv1\",cmap=\"fessa\",ax=ax)\n",
    "plt.tight_layout()\n",
    "fig,axs = plt.subplots(1,4,figsize=(16,4))\n",
    "for i,ax in enumerate(axs):\n",
    "    data.plot.scatter(y=names[i],x=\"time\",c=\"cv2\",cmap=\"fessa\",ax=ax)\n",
    "plt.tight_layout()\n",
    "\n",
    "fig,axs = plt.subplots(1,2,figsize=(16,4))\n",
    "for i,ax in enumerate(axs):\n",
    "    data_complete.plot.scatter(y=names[i],x=\"time\",c=\"cv1\",cmap=\"fessa\",ax=ax)\n",
    "plt.tight_layout()\n",
    "fig,axs = plt.subplots(1,2,figsize=(16,4))\n",
    "for i,ax in enumerate(axs):\n",
    "    data_complete.plot.scatter(y=names[i],x=\"time\",c=\"cv2\",cmap=\"fessa\",ax=ax)\n",
    "plt.tight_layout()"
   ]
  },
  {
   "cell_type": "markdown",
   "metadata": {},
   "source": [
    "### Orthogonality  \n",
    "We said that the **ICs** must satisfy two conditions. The first one is that they are uncorrelated, which means that $\\int d \\vec x \\psi_1(\\vec x) \\psi_2(\\vec x) e^{-\\beta U(\\vec x)} = 0$.  \n",
    "But their scalar product on the data will lead to a slightly different result, in this case approximately $0$, but not perfectly $0$"
   ]
  },
  {
   "cell_type": "code",
   "execution_count": null,
   "metadata": {},
   "outputs": [],
   "source": [
    "Boltzmann_product(model,model,X,j=0,k=1,logweight=logweight)"
   ]
  },
  {
   "cell_type": "markdown",
   "metadata": {},
   "source": [
    "# Prepare the next simulation input files\n",
    "### Plumed"
   ]
  },
  {
   "cell_type": "code",
   "execution_count": null,
   "metadata": {},
   "outputs": [],
   "source": [
    "## excluded region\n",
    "data = load_dataframe(folder+\"COLVAR\")\n",
    "descriptors_names = data.filter(regex='^d[^a-z]').columns.values\n",
    "excluded_region = \"xx1: CUSTOM ...\\n\\tPERIODIC=NO\\n\\tARG=\"\n",
    "for desc in descriptors_names:\n",
    "    excluded_region += desc\n",
    "    if desc is not descriptors_names[-1]:\n",
    "        excluded_region += \",\"\n",
    "excluded_region += \"\\n\\tVAR=\"\n",
    "\n",
    "for i in range(len(descriptors_names)):\n",
    "    var = \"x\"+str(i)\n",
    "    excluded_region += var\n",
    "    if i is not len(descriptors_names)-1:\n",
    "        excluded_region += \",\"\n",
    "\n",
    "excluded_region += \"\\n\\tFUNC=\"\n",
    "\n",
    "for i,desc in enumerate(descriptors_names):\n",
    "    func = \"step((x\"+str(i)+\"-\"+str(np.round(min(data[desc]),3))+\")*(x\"+str(i)+\"-\"+str(np.round(max(data[desc]),3))+\"))\"\n",
    "    excluded_region += func\n",
    "    if desc is not descriptors_names[-1]:\n",
    "        excluded_region += \"+\" \n",
    "\n",
    "excluded_region += \"\\n...\"\n",
    "\n",
    "print(excluded_region)"
   ]
  },
  {
   "cell_type": "code",
   "execution_count": null,
   "metadata": {},
   "outputs": [],
   "source": [
    "folder = \"unbias_A/bias1/bias2/\"\n",
    "Path(folder).mkdir(parents=True, exist_ok=True)\n",
    "\n",
    "with open(folder+\"plumed.dat\",\"w\") as file:\n",
    "    print(\"\"\"\n",
    "# vim:ft=plumed\n",
    "\n",
    "MOLINFO STRUCTURE=input.ala2.pdb\n",
    "phi: TORSION ATOMS=@phi-2 \n",
    "psi: TORSION ATOMS=@psi-2\n",
    "omega: TORSION ATOMS=5,6,7,9\n",
    "theta: TORSION ATOMS=9,15,17,18\n",
    "\n",
    "#energy\n",
    "ene: ENERGY\n",
    "\n",
    "# include descriptors\n",
    "INCLUDE FILE=plumed_descriptors.data\n",
    "# define cv\n",
    "tica_cv1_1\"\"\"+\n",
    "model.plumed_input().splitlines()[0][8:]+\"\"\"\\ntica_cv2_1\"\"\"+model.plumed_input().splitlines()[1][8:]\n",
    "+\"\"\"\n",
    "#excluded region\n",
    "\"\"\"+\n",
    "excluded_region\n",
    "+\"\"\"\n",
    "# bias \n",
    "opes: OPES_METAD ARG=tica_cv1_1 TEMP=300 EXCLUDED_REGION=xx1 PACE=500 FILE=KERNELS BARRIER=40 STATE_WFILE=RestartKernels STATE_WSTRIDE=500*10\n",
    "      \n",
    "#define old_cv\n",
    "tica_cv1_0: CUSTOM ARG=d1,d2,d3,d4,d5,d6,d7,d8,d9,d10,d11,d12,d13,d14,d15,d16,d17,d18,d19,d20,d21,d22,d23,d24,d25,d26,d27,d28,d29,d30,d31,d32,d33,d34,d35,d36,d37,d38,d39,d40,d41,d42,d43,d44,d45 VAR=x0,x1,x2,x3,x4,x5,x6,x7,x8,x9,x10,x11,x12,x13,x14,x15,x16,x17,x18,x19,x20,x21,x22,x23,x24,x25,x26,x27,x28,x29,x30,x31,x32,x33,x34,x35,x36,x37,x38,x39,x40,x41,x42,x43,x44 FUNC=0.029637*(x0-0.151295)-0.030169*(x1-0.237500)-0.040216*(x2-0.242272)-0.039141*(x3-0.381717)+0.002893*(x4-0.469097)+0.225153*(x5-0.466701)-0.117858*(x6-0.518403)-0.004963*(x7-0.519856)-0.040199*(x8-0.634493)+0.051730*(x9-0.122465)+0.078022*(x10-0.133311)+0.146658*(x11-0.247859)-0.011478*(x12-0.352353)-0.716243*(x13-0.342903)+0.393391*(x14-0.415064)+0.111528*(x15-0.393135)+0.078305*(x16-0.520782)-0.053255*(x17-0.224818)-0.038558*(x18-0.284430)+0.000293*(x19-0.395629)+0.173788*(x20-0.370787)-0.114678*(x21-0.460242)+0.011783*(x22-0.390877)-0.033371*(x23-0.515998)-0.060215*(x24-0.146723)+0.007340*(x25-0.243828)+0.264724*(x26-0.249876)-0.140306*(x27-0.311901)-0.096522*(x28-0.332600)-0.001148*(x29-0.464227)+0.031018*(x30-0.153873)+0.147623*(x31-0.154669)-0.078821*(x32-0.241675)-0.063735*(x33-0.246362)-0.003357*(x34-0.385611)-0.127734*(x35-0.256919)+0.059289*(x36-0.307312)+0.063469*(x37-0.351579)-0.013194*(x38-0.480778)+0.009924*(x39-0.123149)-0.031312*(x40-0.134079)+0.025749*(x41-0.248333)+0.037814*(x42-0.225154)-0.011917*(x43-0.283786)-0.003978*(x44-0.146422) PERIODIC=NO\n",
    "#define old excluded region\n",
    "xx0: CUSTOM ...\n",
    "\tPERIODIC=NO\n",
    "\tARG=d1,d2,d3,d4,d5,d6,d7,d8,d9,d10,d11,d12,d13,d14,d15,d16,d17,d18,d19,d20,d21,d22,d23,d24,d25,d26,d27,d28,d29,d30,d31,d32,d33,d34,d35,d36,d37,d38,d39,d40,d41,d42,d43,d44,d45\n",
    "\tVAR=x0,x1,x2,x3,x4,x5,x6,x7,x8,x9,x10,x11,x12,x13,x14,x15,x16,x17,x18,x19,x20,x21,x22,x23,x24,x25,x26,x27,x28,x29,x30,x31,x32,x33,x34,x35,x36,x37,x38,x39,x40,x41,x42,x43,x44\n",
    "\tFUNC=step((x0-0.141)*(x0-0.162))+step((x1-0.222)*(x1-0.256))+step((x2-0.224)*(x2-0.26))+step((x3-0.36)*(x3-0.402))+step((x4-0.402)*(x4-0.506))+step((x5-0.392)*(x5-0.517))+step((x6-0.38)*(x6-0.612))+step((x7-0.371)*(x7-0.632))+step((x8-0.484)*(x8-0.764))+step((x9-0.114)*(x9-0.13))+step((x10-0.123)*(x10-0.142))+step((x11-0.231)*(x11-0.264))+step((x12-0.297)*(x12-0.389))+step((x13-0.289)*(x13-0.394))+step((x14-0.31)*(x14-0.484))+step((x15-0.289)*(x15-0.507))+step((x16-0.403)*(x16-0.644))+step((x17-0.209)*(x17-0.239))+step((x18-0.258)*(x18-0.316))+step((x19-0.298)*(x19-0.454))+step((x20-0.285)*(x20-0.455))+step((x21-0.321)*(x21-0.531))+step((x22-0.263)*(x22-0.552))+step((x23-0.358)*(x23-0.697))+step((x24-0.137)*(x24-0.159))+step((x25-0.223)*(x25-0.265))+step((x26-0.226)*(x26-0.271))+step((x27-0.25)*(x27-0.382))+step((x28-0.266)*(x28-0.388))+step((x29-0.389)*(x29-0.524))+step((x30-0.143)*(x30-0.165))+step((x31-0.142)*(x31-0.168))+step((x32-0.225)*(x32-0.258))+step((x33-0.228)*(x33-0.262))+step((x34-0.365)*(x34-0.405))+step((x35-0.238)*(x35-0.279))+step((x36-0.259)*(x36-0.38))+step((x37-0.277)*(x37-0.399))+step((x38-0.404)*(x38-0.53))+step((x39-0.115)*(x39-0.132))+step((x40-0.124)*(x40-0.143))+step((x41-0.232)*(x41-0.265))+step((x42-0.212)*(x42-0.24))+step((x43-0.258)*(x43-0.31))+step((x44-0.136)*(x44-0.157))\n",
    "...\n",
    "#static bias (previous tica_cv1)\n",
    "static: OPES_METAD ARG=tica_cv1_0 EXCLUDED_REGION=xx0 PACE=100000000 BARRIER=40 FILE=KERNELS0 STATE_RFILE=../RestartKernels RESTART=YES\n",
    "\n",
    "# every 1 ps\n",
    "PRINT FMT=%g STRIDE=500 FILE=COLVAR ARG=*\n",
    "\n",
    "ENDPLUMED\n",
    "\"\"\",file=file)\n",
    "\n",
    "#-- run gromacs --#\n",
    "execute(\"cp script/input.* script/plumed_descriptors.data script/run_gromacs.sh \"+folder,folder=\".\")"
   ]
  },
  {
   "cell_type": "code",
   "execution_count": null,
   "metadata": {},
   "outputs": [],
   "source": [
    "#!cat unbias_A/bias1/bias2/plumed.dat"
   ]
  }
 ],
 "metadata": {
  "kernelspec": {
   "display_name": "Python 3 (ipykernel)",
   "language": "python",
   "name": "python3"
  },
  "language_info": {
   "codemirror_mode": {
    "name": "ipython",
    "version": 3
   },
   "file_extension": ".py",
   "mimetype": "text/x-python",
   "name": "python",
   "nbconvert_exporter": "python",
   "pygments_lexer": "ipython3",
   "version": "3.7.9"
  }
 },
 "nbformat": 4,
 "nbformat_minor": 4
}
