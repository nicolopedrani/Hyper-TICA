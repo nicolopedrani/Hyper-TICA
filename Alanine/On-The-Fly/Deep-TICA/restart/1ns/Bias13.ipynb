{
 "cells": [
  {
   "cell_type": "markdown",
   "metadata": {},
   "source": [
    "# Import needed modules and useful functions"
   ]
  },
  {
   "cell_type": "code",
   "execution_count": null,
   "metadata": {},
   "outputs": [],
   "source": [
    "#-- useful python script for training the DeepTICA cvs --#\n",
    "from utils import *\n",
    "\n",
    "#-- to not visualize warnings --#\n",
    "import warnings\n",
    "warnings.filterwarnings('ignore')"
   ]
  },
  {
   "cell_type": "markdown",
   "metadata": {},
   "source": [
    "# Simulation parameters "
   ]
  },
  {
   "cell_type": "code",
   "execution_count": null,
   "metadata": {},
   "outputs": [],
   "source": [
    "kb=0.008314\n",
    "#-- SIMULATION PARAMETERS --#\n",
    "sim_parameters = {\n",
    "    'temp':300, \n",
    "    'beta': 1./(300*kb),\n",
    "    'kbt': None,\n",
    "    #-- parameters to compute the fes --#\n",
    "    'blocks':2,\n",
    "    'bandwidth': 0.02,\n",
    "    'plot_max_fes' :70,\n",
    "}\n",
    "#--------------------------------------#"
   ]
  },
  {
   "cell_type": "markdown",
   "metadata": {},
   "source": [
    "# Prepare input files for plumed"
   ]
  },
  {
   "cell_type": "code",
   "execution_count": null,
   "metadata": {},
   "outputs": [],
   "source": [
    "folder = \"unbias_A/bias1/bias2/bias3/bias4/bias5/bias6/bias7/bias8/bias9/bias10/bias11/bias12/bias13/\"\n",
    "#-- run gromacs --#\n",
    "execute(\"./run_gromacs.sh\",folder=folder)"
   ]
  },
  {
   "cell_type": "code",
   "execution_count": null,
   "metadata": {},
   "outputs": [],
   "source": [
    "fig,ax = plt.subplots(1,1,figsize=(10,8))\n",
    "data = load_dataframe(folder+\"COLVAR\")\n",
    "data.plot.scatter(y=\"psi\",x=\"phi\",ax=ax)\n",
    "\n",
    "fes = np.loadtxt(\"../../../../angles/fes.txt\",delimiter=\" \")\n",
    "grid0 = np.loadtxt(\"../../../../angles/grid0.txt\",delimiter=\" \")\n",
    "grid1 = np.loadtxt(\"../../../../angles/grid1.txt\",delimiter=\" \")\n",
    "bounds = np.arange(0, 60, 5.)\n",
    "c = ax.contour(grid0, grid1, fes, bounds, linewidths=3,cmap=\"gray\",linestyles=\"dashed\",\n",
    "    norm = mpl.colors.BoundaryNorm(bounds, ncolors=len(bounds)-1, clip=False), label=\"FES [Kj/mol]\",\n",
    ")\n",
    "c.clabel()\n",
    "ax.grid()\n",
    "ax.set_xlabel(r\"$\\phi$\")\n",
    "ax.set_ylabel(r\"$\\psi$\")"
   ]
  },
  {
   "cell_type": "code",
   "execution_count": null,
   "metadata": {},
   "outputs": [],
   "source": [
    "fig,axs = plt.subplots(1,4,figsize=(16,6))\n",
    "data.plot.scatter(x=\"time\",y=\"psi\",ax=axs[0], color=\"b\")\n",
    "data.plot.scatter(x=\"time\",y=\"phi\",ax=axs[1], color=\"r\")\n",
    "#data.plot.scatter(x=\"time\",y=\"omega\",ax=axs[2], color=\"black\")\n",
    "#data.plot.scatter(x=\"time\",y=\"theta\",ax=axs[3], color=\"g\")\n",
    "plt.tight_layout()"
   ]
  },
  {
   "cell_type": "code",
   "execution_count": null,
   "metadata": {},
   "outputs": [],
   "source": [
    "#-- estimation of Free Energy Surface --#\n",
    "s = load_dataframe(folder+\"COLVAR\").filter(regex=\"^p\").to_numpy()\n",
    "\"\"\"\n",
    "logweight = data[\"opes.bias\"].to_numpy()+data[\"static0.bias\"].to_numpy()+data[\"static1.bias\"].to_numpy()+data[\"static2.bias\"].to_numpy()\n",
    "logweight = logweight-np.max(logweight)\n",
    "logweight *= sim_parameters[\"beta\"]\n",
    "\"\"\"\n",
    "logweight=( data[\"opes.bias\"].to_numpy()-max(data[\"opes.bias\"].to_numpy()) )*sim_parameters[\"beta\"]\n",
    "\n",
    "fig, ax = plt.subplots(figsize=(6,6))\n",
    "for i in range(2):\n",
    "    fes,grid,bounds,error = compute_fes(s[:,i], weights=np.exp(logweight),\n",
    "                                        temp=sim_parameters[\"temp\"],\n",
    "                                        kbt=sim_parameters[\"kbt\"],\n",
    "                                        blocks=sim_parameters[\"blocks\"],\n",
    "                                        bandwidth=sim_parameters[\"bandwidth\"],scale_by='range',\n",
    "                                        plot=True, plot_max_fes=sim_parameters[\"plot_max_fes\"], ax = ax)\n",
    "ax.legend([r\"$F(\\phi)$ estimate\",r\"$F(\\psi)$ estimate\"])   \n",
    "ax.grid()\n",
    "plt.tight_layout()\n",
    "ax.set_xlabel(r\"$(\\phi,\\psi)$\")\n",
    "ax.set_ylabel(\"FES [Kj/mol]\")\n",
    "\n",
    "plt.show()"
   ]
  },
  {
   "cell_type": "code",
   "execution_count": null,
   "metadata": {},
   "outputs": [],
   "source": [
    "data.plot.scatter(y=\"xx12\",x=\"time\")"
   ]
  },
  {
   "cell_type": "code",
   "execution_count": null,
   "metadata": {},
   "outputs": [],
   "source": [
    "data.plot.scatter(y=\"opes.rct\",x=\"time\")"
   ]
  },
  {
   "cell_type": "code",
   "execution_count": null,
   "metadata": {},
   "outputs": [],
   "source": [
    "data = load_dataframe(folder+\"COLVAR\")\n",
    "descriptors_names = data.filter(regex='^d[^a-z]').columns.values"
   ]
  },
  {
   "cell_type": "code",
   "execution_count": null,
   "metadata": {},
   "outputs": [],
   "source": [
    "fig,axs = plt.subplots(5,9,figsize=(22,10))#,sharey=True)\n",
    "\n",
    "for ax,desc in zip(axs.flatten(),descriptors_names):\n",
    "    data.plot.scatter(x=\"time\",y=desc,alpha=1,ax=ax,legend=False,grid=True)#,density=True)\n",
    "    ax.set_title(desc)\n",
    "\n",
    "plt.tight_layout()"
   ]
  },
  {
   "cell_type": "code",
   "execution_count": null,
   "metadata": {},
   "outputs": [],
   "source": [
    "fig,axs = plt.subplots(2,1,figsize=(14,10))#,sharey=True)\n",
    "data = data[:]\n",
    "#-- in ps --#\n",
    "last=250\n",
    "x = np.linspace(0,last+1,last)\n",
    "acorr = np.empty(last)\n",
    "timescale = np.empty(len(descriptors_names))\n",
    "k=0\n",
    "for desc in descriptors_names:\n",
    "    #print(\"autocorrelation for \", desc)\n",
    "    for i in range(last):\n",
    "        acorr[i] = data[desc].autocorr(i)\n",
    "    axs[0].plot(x,acorr)\n",
    "    timescale[k] = integrate.trapz(acorr[:last],x[:last])\n",
    "    k+=1\n",
    "\n",
    "times = pd.DataFrame(descriptors_names,columns=[\"descriptors\"])\n",
    "times[\"timescale\"] = timescale\n",
    "times.plot(kind=\"bar\",x=\"descriptors\",y=\"timescale\",rot=35,ax=axs[1],fontsize=15,label=r\"$\\xi$\")\n",
    "\n",
    "axs[0].set_xlabel(r'$\\tau$')\n",
    "axs[0].set_title(r'$C(\\tau)$')\n",
    "axs[1].set_title(r'$\\xi=\\int d\\tau C(\\tau)$')\n",
    "\n",
    "plt.tight_layout()\n",
    "plt.show()\n",
    "\n",
    "print(np.max(timescale))\n",
    "print(np.min(timescale))\n",
    "\n",
    "#without integrating, but fitting\n",
    "#fit_timeacorr(descriptors_names,data,axs=None)"
   ]
  },
  {
   "cell_type": "code",
   "execution_count": null,
   "metadata": {},
   "outputs": [],
   "source": [
    "descriptors = times[ times['timescale']>0 ][\"descriptors\"].tolist()\n",
    "#descriptors.append(\"ene\")\n",
    "n_input = len(descriptors)\n",
    "print(descriptors)\n",
    "data[descriptors]"
   ]
  },
  {
   "cell_type": "markdown",
   "metadata": {},
   "source": [
    "# Training Deep-TICA\n",
    "## Parameters"
   ]
  },
  {
   "cell_type": "code",
   "execution_count": null,
   "metadata": {},
   "outputs": [],
   "source": [
    "data = load_dataframe(folder+\"COLVAR\")\n",
    "#-- TRAINING PARAMETERS --#\n",
    "n_output = 2 # 2 non linear combination of the descriptors  \n",
    "n_input = 45\n",
    "train_parameters = {\n",
    "              'descriptors': descriptors, \n",
    "              'nodes':[n_input,30,30,n_output], # [n_input,10,10,n_output] va bene\n",
    "              'activ_type': 'tanh',#'relu','selu','tanh'\n",
    "              'lag_time':10, \n",
    "              'loss_type': 'sum', \n",
    "              'n_eig': n_output,\n",
    "              'trainsize':0.75, \n",
    "              'lrate':1e-3,\n",
    "              'l2_reg':0.,\n",
    "              'num_epochs':500,\n",
    "              'batchsize': -1, #---> è da fare sul train loder and valid loader\n",
    "              'es_patience':10,\n",
    "              'es_consecutive':True,\n",
    "              'standardize_outputs':False,\n",
    "              'standardize_inputs': True,\n",
    "              'log_every':50,\n",
    "              }\n",
    "#--------------------------------------#"
   ]
  },
  {
   "cell_type": "markdown",
   "metadata": {},
   "source": [
    "### DeepTICA loading data"
   ]
  },
  {
   "cell_type": "code",
   "execution_count": null,
   "metadata": {},
   "outputs": [],
   "source": [
    "from mlcvs.utils.data import find_time_lagged_configurations\n",
    "\n",
    "def create_time_lagged_dataset(X, t = None, lag_time = 10, logweights = None, tprime = None, interval = None):\n",
    "    \"\"\"\n",
    "    Create a dataset of time-lagged configurations. If a set of (log)weights is given the search is performed in the accelerated time.\n",
    "\n",
    "    Parameters\n",
    "    ----------\n",
    "    X : array-like\n",
    "        input descriptors\n",
    "    t : array-like, optional\n",
    "        time series, by default np.arange(len(X))\n",
    "    lag_time: float, optional\n",
    "        lag between configurations, by default = 10        \n",
    "    logweights : array-like,optional\n",
    "        logweights to evaluate rescaled time as dt' = dt*exp(logweights)\n",
    "    tprime : array-like,optional\n",
    "        rescaled time estimated from the simulation. If not given 'tprime_evaluation(t,logweights)' is used instead\n",
    "    \"\"\"\n",
    "\n",
    "    # check if dataframe\n",
    "    if type(X) == pd.core.frame.DataFrame:\n",
    "        X = X.values\n",
    "    if type(t) == pd.core.frame.DataFrame:\n",
    "        t = t.values\n",
    "\n",
    "    # assert\n",
    "    assert t.ndim == 1 \n",
    "    assert len(X) == len(t)\n",
    "\n",
    "    # define time if not given\n",
    "    if t is None:\n",
    "        t = np.arange(0,len(X))\n",
    "\n",
    "    #define tprime if not given\n",
    "    if tprime is None:\n",
    "        tprime = tprime_evaluation(t, logweights)\n",
    "\n",
    "    # find pairs of configurations separated by lag_time\n",
    "    data = find_time_lagged_configurations(X, tprime,lag=lag_time)\n",
    "    \n",
    "    if interval is not None:\n",
    "        # covert to a list\n",
    "        data = list(data)\n",
    "        # assert dimension of interval\n",
    "        assert len(interval) == 2\n",
    "        # modifies the content of data by slicing\n",
    "        for i in range(len(data)):\n",
    "            data[i] = data[i][interval[0]:interval[1]]\n",
    "\n",
    "    #return data\n",
    "    return torch.utils.data.TensorDataset(*data)"
   ]
  },
  {
   "cell_type": "markdown",
   "metadata": {},
   "source": [
    "### DeepTICA loading data"
   ]
  },
  {
   "cell_type": "code",
   "execution_count": null,
   "metadata": {},
   "outputs": [],
   "source": [
    "torch.manual_seed(21)\n",
    "skip = 0\n",
    "min_lag,max_lag = 0.2,5\n",
    "#print( np.exp(-min_lag*sim_parameters[\"beta\"]*0.5), max_lag*np.exp(-sim_parameters[\"beta\"]*0.5) )\n",
    "#min_lag,max_lag = min_lag*np.exp(-sim_parameters[\"beta\"]*0.5), max_lag*np.exp(-sim_parameters[\"beta\"]*0.5)\n",
    "lags = np.linspace(min_lag,max_lag,5)\n",
    "#names = data[descriptors].columns.values\n",
    "train_datasets = []\n",
    "valid_datasets = []\n",
    "\n",
    "n_train = int( len(data)*train_parameters[\"trainsize\"] )\n",
    "n_valid = int( len(data)*(1-train_parameters[\"trainsize\"])-int(10*max_lag) )"
   ]
  },
  {
   "cell_type": "code",
   "execution_count": null,
   "metadata": {},
   "outputs": [],
   "source": [
    "#-- unbias simulation --#\n",
    "data = load_dataframe(\"unbias_A/COLVAR\")\n",
    "data = data[skip:]\n",
    "# descriptors\n",
    "X = data[descriptors].values \n",
    "n_features = X.shape[1]\n",
    "# time\n",
    "t = data['time'].values\n",
    "# tprime and logweights\n",
    "tprime = None\n",
    "logweight = None\n",
    "\n",
    "# create time lagged dataset with different lag times\n",
    "for lag in lags:\n",
    "    #random split\n",
    "    # TensorDataset (x_t,x_lag,w_t,w_lag)\n",
    "    print(\"lag: \", np.round(lag,3))\n",
    "    dataset = create_time_lagged_dataset(X,t=t,lag_time=np.round(lag,3),logweights=logweight,tprime=tprime,interval=[0,n_train+n_valid])\n",
    "    print(\"---------------------------------------\")\n",
    "    train_data, valid_data = random_split(dataset,[n_train,n_valid])\n",
    "    train_datasets.append(train_data)\n",
    "    valid_datasets.append(valid_data)"
   ]
  },
  {
   "cell_type": "code",
   "execution_count": null,
   "metadata": {},
   "outputs": [],
   "source": [
    "#--- bias simulations --#\n",
    "List = [\"unbias_A/bias1/COLVAR\",\"unbias_A/bias1/bias2/COLVAR\",\"unbias_A/bias1/bias2/bias3/COLVAR\",\"unbias_A/bias1/bias2/bias3/bias4/COLVAR\"]\n",
    "List.append(\"unbias_A/bias1/bias2/bias3/bias4/bias5/COLVAR\")\n",
    "List.append(\"unbias_A/bias1/bias2/bias3/bias4/bias5/bias6/COLVAR\")\n",
    "List.append(\"unbias_A/bias1/bias2/bias3/bias4/bias5/bias6/bias7/COLVAR\")\n",
    "List.append(\"unbias_A/bias1/bias2/bias3/bias4/bias5/bias6/bias7/bias8/COLVAR\")\n",
    "List.append(\"unbias_A/bias1/bias2/bias3/bias4/bias5/bias6/bias7/bias8/bias9/COLVAR\")\n",
    "List.append(\"unbias_A/bias1/bias2/bias3/bias4/bias5/bias6/bias7/bias8/bias9/bias10/COLVAR\")\n",
    "List.append(\"unbias_A/bias1/bias2/bias3/bias4/bias5/bias6/bias7/bias8/bias9/bias10/bias11/COLVAR\")\n",
    "List.append(\"unbias_A/bias1/bias2/bias3/bias4/bias5/bias6/bias7/bias8/bias9/bias10/bias11/bias12/COLVAR\")\n",
    "List.append(folder+\"COLVAR\")\n",
    "for set in List:\n",
    "    data = load_dataframe(set)\n",
    "    data = data[skip:]\n",
    "    # descriptors\n",
    "    X = data[descriptors].values \n",
    "    n_features = X.shape[1]\n",
    "    # time\n",
    "    t = data['time'].values\n",
    "\n",
    "    # alternative method to not modify temperature but only rescale the bias\n",
    "    logweight = data[\"opes.bias\"].to_numpy()-max(data[\"opes.bias\"].to_numpy())\n",
    "    #logweight = data[\"opes.bias\"].to_numpy()\n",
    "    logweight /= np.abs(min(logweight))\n",
    "    logweight *= sim_parameters[\"beta\"]\n",
    "    dt = t[1]-t[0]\n",
    "    tprime = dt * np.cumsum(np.exp(logweight))\n",
    "\n",
    "    # create time lagged dataset with different lag times\n",
    "    for lag in lags:\n",
    "        #random split\n",
    "        # TensorDataset (x_t,x_lag,w_t,w_lag)\n",
    "        print(\"lag: \", np.round(lag,3))\n",
    "        dataset = create_time_lagged_dataset(X,t=t,lag_time=np.round(lag,3),logweights=logweight,tprime=tprime,interval=[0,n_train+n_valid])\n",
    "        print(\"---------------------------------------\")\n",
    "        train_data, valid_data = random_split(dataset,[n_train,n_valid])\n",
    "        train_datasets.append(train_data)\n",
    "        valid_datasets.append(valid_data)"
   ]
  },
  {
   "cell_type": "code",
   "execution_count": null,
   "metadata": {},
   "outputs": [],
   "source": [
    "train_loader = FastTensorDataLoader(train_datasets, batch_size=n_train)\n",
    "valid_loader = FastTensorDataLoader(valid_datasets, batch_size=n_valid)"
   ]
  },
  {
   "cell_type": "markdown",
   "metadata": {},
   "source": [
    "### Setting training features and regularizations"
   ]
  },
  {
   "cell_type": "code",
   "execution_count": null,
   "metadata": {},
   "outputs": [],
   "source": [
    "# DEVICE\n",
    "device = torch.device(\"cuda\" if torch.cuda.is_available() else \"cpu\")\n",
    "\n",
    "# MODEL\n",
    "model = DeepTICA_CV(train_parameters['nodes'],activation=train_parameters['activ_type'],gaussian_random_initialization=True)\n",
    "'''\n",
    "# load checkpoint previous simulation\n",
    "model.load_checkpoint(\"unbias_A/bias1/bias2/bias3/deeptica/model_checkpoint.pt\")\n",
    "model.epochs = 0\n",
    "model.loss_train = []\n",
    "model.loss_valid = []\n",
    "model.evals_train = []\n",
    "'''\n",
    "#model.tica.symmetrize = False\n",
    "model.to(device)\n",
    "\n",
    "# OPTIMIZER (Adam)\n",
    "opt = torch.optim.Adam(model.parameters(), lr=train_parameters['lrate'], weight_decay=train_parameters['l2_reg'])\n",
    "# lrscheduler\n",
    "#model.set_LRScheduler(opt,min_lr=5e-5)\n",
    "model.set_optimizer(opt)\n",
    "\n",
    "if valid_loader is not None:\n",
    "    # EarlyStopping\n",
    "    model.set_earlystopping(patience=train_parameters['es_patience'],\n",
    "                            min_delta=0.005,consecutive=train_parameters['es_consecutive'], save_best_model=True, log=False)"
   ]
  },
  {
   "cell_type": "markdown",
   "metadata": {},
   "source": [
    "### DeepTICA fit"
   ]
  },
  {
   "cell_type": "code",
   "execution_count": null,
   "metadata": {},
   "outputs": [],
   "source": [
    "# TRAIN\n",
    "model.fit(train_loader=train_loader,valid_loader=valid_loader,\n",
    "    standardize_inputs=train_parameters['standardize_inputs'],\n",
    "    standardize_outputs=train_parameters['standardize_outputs'],\n",
    "    loss_type=train_parameters['loss_type'],\n",
    "    n_eig=train_parameters['n_eig'],\n",
    "    nepochs=train_parameters['num_epochs'],\n",
    "    info=False, log_every=train_parameters['log_every'])"
   ]
  },
  {
   "cell_type": "code",
   "execution_count": null,
   "metadata": {},
   "outputs": [],
   "source": [
    "#-- move the model back to cpu for convenience --#\n",
    "model.to('cpu')\n",
    "\n",
    "#-- export checkpoint (for loading the model back to python) and torchscript traced module --#\n",
    "save_folder = folder+\"deeptica/\"\n",
    "try:\n",
    "    os.mkdir(save_folder)\n",
    "except:\n",
    "    print(\"already exists\")\n",
    "#-- move to cpu before saving results --#\n",
    "model.to(\"cpu\")\n",
    "model.export(save_folder)\n",
    "print(\"model saved\")\n",
    "\n",
    "#-- print some useful results --#\n",
    "print(\"timescales: \",model.tica.timescales(train_parameters[\"lag_time\"]).detach().cpu().numpy()) \n",
    "print(\"eigenvalues: \",model.tica.evals_.detach().cpu().numpy())\n",
    "print(\"gap: \", model.tica.evals_.detach().cpu().numpy()[0]-model.tica.evals_.detach().cpu().numpy()[1])"
   ]
  },
  {
   "cell_type": "code",
   "execution_count": null,
   "metadata": {},
   "outputs": [],
   "source": [
    "plot_model_lossfunction(model)"
   ]
  },
  {
   "cell_type": "markdown",
   "metadata": {},
   "source": [
    "#### Adding to data the cvs values"
   ]
  },
  {
   "cell_type": "code",
   "execution_count": null,
   "metadata": {},
   "outputs": [],
   "source": [
    "descriptors_names = data.filter(regex='^d[^a-z]').columns.values\n",
    "data_complete = load_dataframe(\"../../../../angles/COLVAR\")\n",
    "X_complete = data_complete[descriptors_names].to_numpy()\n",
    "logweight = data[\"opes.bias\"].to_numpy()-max(data[\"opes.bias\"].to_numpy())*sim_parameters[\"beta\"]"
   ]
  },
  {
   "cell_type": "code",
   "execution_count": null,
   "metadata": {},
   "outputs": [],
   "source": [
    "data[\"cv1\"] = np.transpose(model(torch.Tensor(X)).detach().cpu().numpy())[0]\n",
    "data[\"cv2\"] = np.transpose(model(torch.Tensor(X)).detach().cpu().numpy())[1]\n",
    "data_complete[\"cv1\"] = np.transpose(model(torch.Tensor(X_complete)).detach().cpu().numpy())[0]\n",
    "data_complete[\"cv2\"] = np.transpose(model(torch.Tensor(X_complete)).detach().cpu().numpy())[1]"
   ]
  },
  {
   "cell_type": "code",
   "execution_count": null,
   "metadata": {},
   "outputs": [],
   "source": [
    "fig,axs = plt.subplots(1,2,figsize=(12,4),sharey=True)\n",
    "data.plot.hist(y=\"cv1\",bins=20,ax=axs[0],density=True,color=\"b\")\n",
    "data.plot.hist(y=\"cv2\",bins=20,ax=axs[1],density=True,color=\"b\")\n",
    "data_complete.plot.hist(y=\"cv1\",bins=20,ax=axs[0],density=True,color=\"r\",histtype='step',linewidth=2)\n",
    "data_complete.plot.hist(y=\"cv2\",bins=20,ax=axs[1],density=True,color=\"r\",histtype='step',linewidth=2)"
   ]
  },
  {
   "cell_type": "markdown",
   "metadata": {},
   "source": [
    "## Power Spectral density"
   ]
  },
  {
   "cell_type": "code",
   "execution_count": null,
   "metadata": {},
   "outputs": [],
   "source": [
    "## time series\n",
    "c = [\"b\",\"r\"]\n",
    "fig,axs = plt.subplots(1,2,figsize=(12,4))\n",
    "for j,color in enumerate(c):\n",
    "    data.plot.scatter(y=\"cv\"+str(j+1),x=\"time\",ax=axs[0],color=color,label=\"cv\"+str(j+1),alpha=0.5)\n",
    "axs[0].set_ylabel(\"cvs\")    \n",
    "axs[0].legend()\n",
    "\n",
    "## PSD\n",
    "T = 1 # valued saved each ps\n",
    "fs = 1/T # frequency \n",
    "for j,color in enumerate(c):\n",
    "    f, Pxx = signal.welch(data[\"cv\"+str(j+1)].to_numpy()[:], fs)\n",
    "    #axs[1].plot(f, Pxx, color=color,label=\"cv\"+str(j))\n",
    "    axs[1].semilogy(f,Pxx, color=color,label=\"cv\"+str(j+1)); #axs[1].semilogx()\n",
    "axs[1].set_xlabel(r\"frequency $\\frac{1.}{ps}$\")\n",
    "axs[1].set_ylabel(r\"PSD\")\n",
    "axs[1].legend()\n",
    "plt.tight_layout()"
   ]
  },
  {
   "cell_type": "markdown",
   "metadata": {},
   "source": [
    "We can also plot the correlation (*Pearson* correlation ,which simply means normed correlation) of the Deep-TICA cvs with the descriptors"
   ]
  },
  {
   "cell_type": "code",
   "execution_count": null,
   "metadata": {},
   "outputs": [],
   "source": [
    "fig,axs = plt.subplots(2,1,figsize=(16,12),sharex=True)\n",
    "for k,cv in enumerate([\"cv1\",\"cv2\"]):\n",
    "    cols = [cv]\n",
    "    cols.extend(data[descriptors].columns)\n",
    "    corr = data[cols].corr(method='pearson')\n",
    "    corr[cv].drop(cv).plot(kind='bar', ax=axs[k], rot=35, color=\"b\",label=r\"$C(deep|desc)$\")\n",
    "    axs[k].set_title('Correlation with DeepTICA '+str(k+1))\n",
    "plt.show()"
   ]
  },
  {
   "cell_type": "markdown",
   "metadata": {},
   "source": [
    "### FES estimate from cvs  \n",
    "Obviously from this first simulation it is not possible to found a cvs that from data are able to distinguish all the possible basins. I recall that our approach is a **data drive approach**.  \n"
   ]
  },
  {
   "cell_type": "code",
   "execution_count": null,
   "metadata": {},
   "outputs": [],
   "source": [
    "#-- estimation of Free Energy Surface --#\n",
    "s = data.filter(regex=\"^cv\").to_numpy()\n",
    "cvs_fes = []\n",
    "fig, ax = plt.subplots(figsize=(6,6))\n",
    "for i in range(2):\n",
    "    fes,grid,bounds,error = compute_fes(s[:,i], weights=np.exp(logweight),\n",
    "                                        temp=sim_parameters[\"temp\"],\n",
    "                                        kbt=sim_parameters[\"kbt\"],\n",
    "                                        blocks=sim_parameters[\"blocks\"],\n",
    "                                        bandwidth=sim_parameters[\"bandwidth\"],scale_by='range',\n",
    "                                        plot=True, plot_max_fes=sim_parameters[\"plot_max_fes\"], ax = ax)\n",
    "    cvs_fes.append(fes)\n",
    "ax.legend([\"F(cv1) estimate\",\"F(cv2) estimate\"])   \n",
    "ax.grid()\n",
    "plt.tight_layout()\n",
    "ax.set_xlabel(r\"$(cv1,cv2)$\")\n",
    "ax.set_ylabel(\"FES [Kj/mol]\")\n",
    "\n",
    "plt.show()"
   ]
  },
  {
   "cell_type": "code",
   "execution_count": null,
   "metadata": {},
   "outputs": [],
   "source": [
    "# entropy from fes\n",
    "import scipy \n",
    "\n",
    "counts = np.exp(-sim_parameters[\"beta\"]*cvs_fes[0])\n",
    "entropy = scipy.stats.entropy(counts)\n",
    "print(\"Entropy cv2 \",entropy)\n",
    "\n",
    "counts = np.exp(-sim_parameters[\"beta\"]*cvs_fes[1])\n",
    "entropy = scipy.stats.entropy(counts)\n",
    "print(\"Entropy cv2 \",entropy)"
   ]
  },
  {
   "cell_type": "code",
   "execution_count": null,
   "metadata": {},
   "outputs": [],
   "source": [
    "# jensenshannon distance between two probability\n",
    "from scipy.spatial import distance\n",
    "\n",
    "s = data[\"deep5.node-0\"].to_numpy()\n",
    "fig, ax = plt.subplots(figsize=(6,6))\n",
    "fes,grid,bounds,error = compute_fes(s, #weights=np.exp(logweight),\n",
    "                                    temp=sim_parameters[\"temp\"],\n",
    "                                    kbt=sim_parameters[\"kbt\"],\n",
    "                                    blocks=sim_parameters[\"blocks\"],\n",
    "                                    bandwidth=sim_parameters[\"bandwidth\"],scale_by='range',\n",
    "                                    plot=True, plot_max_fes=sim_parameters[\"plot_max_fes\"], ax = ax)\n",
    "ax.legend([\"F(cv1) estimate\",\"F(cv2) estimate\"])   \n",
    "ax.grid()\n",
    "plt.tight_layout()\n",
    "ax.set_xlabel(r\"$(cv1,cv2)$\")\n",
    "ax.set_ylabel(\"FES [Kj/mol]\")\n",
    "\n",
    "plt.show()\n",
    "\n",
    "# se < di 0.5 allora tengo solo quella nuova\n",
    "# se > 0.5 significa che danno informazioni diverse, per cui tengo entrambe\n",
    "print(distance.jensenshannon( np.exp(-sim_parameters[\"beta\"]*cvs_fes[0]) , np.exp(-sim_parameters[\"beta\"]*fes) ))\n",
    "\n",
    "# se < di 0.5 allora tengo solo quella nuova\n",
    "# se > 0.5 significa che danno informazioni diverse, per cui tengo entrambe\n",
    "print(distance.jensenshannon( np.exp(-sim_parameters[\"beta\"]*cvs_fes[1]) , np.exp(-sim_parameters[\"beta\"]*fes) ))"
   ]
  },
  {
   "cell_type": "code",
   "execution_count": null,
   "metadata": {},
   "outputs": [],
   "source": [
    "#-- estimation of Free Energy Surface, with new cv --#\n",
    "s = data.filter(regex=\"deep5.node\").to_numpy()\n",
    "\n",
    "fig, ax = plt.subplots(figsize=(6,6))\n",
    "for i in range(2):\n",
    "    fes,grid,bounds,error = compute_fes(s[:,i], #weights=np.exp(logweight),\n",
    "                                            temp=sim_parameters[\"temp\"],\n",
    "                                            kbt=sim_parameters[\"kbt\"],\n",
    "                                            blocks=sim_parameters[\"blocks\"],\n",
    "                                            bandwidth=sim_parameters[\"bandwidth\"],scale_by='range',\n",
    "                                            plot=True, plot_max_fes=sim_parameters[\"plot_max_fes\"], ax = ax)\n",
    "ax.legend([\"F(deep) estimate\"])   \n",
    "ax.grid()\n",
    "plt.tight_layout()\n",
    "ax.set_xlabel(\"(deep-node)\")\n",
    "ax.set_ylabel(\"FES [Kj/mol]\")\n",
    "\n",
    "plt.show()"
   ]
  },
  {
   "cell_type": "markdown",
   "metadata": {},
   "source": [
    "### Isolines  \n",
    "We can use the data obtained from **angles** folder, biasing both $\\psi$ and $\\phi$ angles, to plot the isolines of the new Cvs   "
   ]
  },
  {
   "cell_type": "code",
   "execution_count": null,
   "metadata": {},
   "outputs": [],
   "source": [
    "fig,axs = plt.subplots(1,2,figsize=(16,6))\n",
    "for k,ax in enumerate(axs):\n",
    "    data.plot.hexbin(y=\"psi\",x=\"phi\",C=\"cv\"+str(k+1),cmap=\"Set1\",ax=ax)\n",
    "    ax.set_xlabel(r\"$\\phi$\")\n",
    "    ax.set_ylabel(r\"$\\psi$\")\n",
    "    ax.set_title('Deep-TICA '+str(k+1))\n",
    "plt.tight_layout()\n",
    "fig,axs = plt.subplots(1,2,figsize=(16,6))\n",
    "for k,ax in enumerate(axs):\n",
    "    data_complete.plot.hexbin(y=\"psi\",x=\"phi\",C=\"cv\"+str(k+1),cmap=\"Set1\",ax=ax)\n",
    "    ax.set_xlabel(r\"$\\phi$\")\n",
    "    ax.set_ylabel(r\"$\\psi$\")\n",
    "    ax.set_title('Deep-TICA '+str(k+1))\n",
    "plt.tight_layout()"
   ]
  },
  {
   "cell_type": "code",
   "execution_count": null,
   "metadata": {},
   "outputs": [],
   "source": [
    "fig,ax = plt.subplots(1,1,figsize=(12,8))\n",
    "data_complete.plot.hexbin(y=\"psi\",x=\"phi\",C=\"cv1\",cmap=\"Set1\",ax=ax)\n",
    "\n",
    "fes = np.loadtxt(\"../../../../angles/fes.txt\",delimiter=\" \")\n",
    "grid0 = np.loadtxt(\"../../../../angles/grid0.txt\",delimiter=\" \")\n",
    "grid1 = np.loadtxt(\"../../../../angles/grid1.txt\",delimiter=\" \")\n",
    "bounds = np.arange(0, 60, 5.)\n",
    "c = ax.contour(grid0, grid1, fes, bounds, linewidths=3,cmap=\"gray\",linestyles=\"dashed\",\n",
    "    norm = mpl.colors.BoundaryNorm(bounds, ncolors=len(bounds)-1, clip=False), label=\"FES [Kj/mol]\",\n",
    ")\n",
    "c.clabel()\n",
    "ax.grid()\n",
    "ax.set_xlabel(r\"$\\phi$\")\n",
    "ax.set_ylabel(r\"$\\psi$\")\n",
    "\n",
    "plt.tight_layout()"
   ]
  },
  {
   "cell_type": "markdown",
   "metadata": {},
   "source": [
    "### Orthogonality  \n",
    "We said that the **ICs** must satisfy two conditions. The first one is that they are uncorrelated, which means that $\\int d \\vec x \\psi_1(\\vec x) \\psi_2(\\vec x) e^{-\\beta U(\\vec x)} = 0$.  \n",
    "But their scalar product on the data will lead to a slightly different result, in this case approximately $0$, but not perfectly $0$"
   ]
  },
  {
   "cell_type": "code",
   "execution_count": null,
   "metadata": {},
   "outputs": [],
   "source": [
    "Boltzmann_product(model,model,X,j=0,k=1)"
   ]
  },
  {
   "cell_type": "markdown",
   "metadata": {},
   "source": [
    "This results reflects the fact that we have enforce the symmetrization of $C(\\tau)$  \n",
    "then one can enforce the orthogonality on the data"
   ]
  },
  {
   "cell_type": "code",
   "execution_count": null,
   "metadata": {},
   "outputs": [],
   "source": [
    "#-- check scalar product --#\n",
    "#DeepTICA 1\n",
    "cv1 = np.transpose(model(torch.Tensor(X)).detach().cpu().numpy())[0]\n",
    "#DeepTICA 2 orthogonal to DeepTICA 1\n",
    "new_cv2 = orthogonal_cv(model,X)\n",
    "prod = np.multiply(np.multiply(cv1,np.ones(X.shape[0])),new_cv2).mean()\n",
    "print(prod)"
   ]
  },
  {
   "cell_type": "code",
   "execution_count": null,
   "metadata": {},
   "outputs": [],
   "source": [
    "data[\"cv2_orthogonal\"] = new_cv2\n",
    "fig,ax = plt.subplots(1,1,figsize=(6,6))\n",
    "data.plot.hexbin(y=\"psi\",x=\"phi\",C=\"cv2_orthogonal\",cmap=\"Set1\",ax=ax)\n",
    "ax.set_xlabel(r\"$\\phi$\")\n",
    "ax.set_ylabel(r\"$\\psi$\")\n",
    "ax.set_title('Deep-TICA 2 orthogonal')"
   ]
  },
  {
   "cell_type": "markdown",
   "metadata": {},
   "source": [
    "# Prepare the next simulation input files\n",
    "### Plumed"
   ]
  },
  {
   "cell_type": "markdown",
   "metadata": {},
   "source": [
    "## First possibility : excluded region"
   ]
  },
  {
   "cell_type": "code",
   "execution_count": null,
   "metadata": {},
   "outputs": [],
   "source": [
    "## excluded region\n",
    "data = load_dataframe(folder+\"COLVAR\")\n",
    "descriptors_names = data.filter(regex='^d[^a-z]').columns.values\n",
    "excluded_region = \"xx13: CUSTOM ...\\n\\tPERIODIC=NO\\n\\tARG=\"\n",
    "for desc in descriptors_names:\n",
    "    excluded_region += desc\n",
    "    if desc is not descriptors_names[-1]:\n",
    "        excluded_region += \",\"\n",
    "excluded_region += \"\\n\\tVAR=\"\n",
    "\n",
    "for i in range(len(descriptors_names)):\n",
    "    var = \"x\"+str(i)\n",
    "    excluded_region += var\n",
    "    if i is not len(descriptors_names)-1:\n",
    "        excluded_region += \",\"\n",
    "\n",
    "excluded_region += \"\\n\\tFUNC=\"\n",
    "\n",
    "for i,desc in enumerate(descriptors_names):\n",
    "    func = \"step((x\"+str(i)+\"-\"+str(np.round(min(data[desc]),3))+\")*(x\"+str(i)+\"-\"+str(np.round(max(data[desc]),3))+\"))\"\n",
    "    excluded_region += func\n",
    "    if desc is not descriptors_names[-1]:\n",
    "        excluded_region += \"+\" \n",
    "\n",
    "excluded_region += \"\\n...\"\n",
    "\n",
    "print(excluded_region)"
   ]
  },
  {
   "cell_type": "code",
   "execution_count": null,
   "metadata": {},
   "outputs": [],
   "source": [
    "folder = \"unbias_A/bias1/bias2/bias3/bias4/bias5/bias6/bias7/bias8/bias9/bias10/bias11/bias12/bias13/bias14/\"\n",
    "Path(folder).mkdir(parents=True, exist_ok=True)\n",
    "\n",
    "with open(folder+\"plumed.dat\",\"w\") as file:\n",
    "    print(\"\"\"\n",
    "# vim:ft=plumed\n",
    "\n",
    "MOLINFO STRUCTURE=input.ala2.pdb\n",
    "phi: TORSION ATOMS=@phi-2 \n",
    "psi: TORSION ATOMS=@psi-2\n",
    "#omega: TORSION ATOMS=5,6,7,9\n",
    "#theta: TORSION ATOMS=9,15,17,18\n",
    "\n",
    "#energy\n",
    "ene: ENERGY\n",
    "\n",
    "# include descriptors\n",
    "INCLUDE FILE=plumed_descriptors.data\n",
    "\n",
    "# define old cv\n",
    "deep0: PYTORCH_MODEL FILE=../../../../../../../../../../../../../../deeptica/model.ptc ARG=d1,d2,d3,d4,d5,d6,d7,d8,d9,d10,d11,d12,d13,d14,d15,d16,d17,d18,d19,d20,d21,d22,d23,d24,d25,d26,d27,d28,d29,d30,d31,d32,d33,d34,d35,d36,d37,d38,d39,d40,d41,d42,d43,d44,d45\n",
    "# static bias\n",
    "#static0: OPES_METAD ARG=deep0.node-0,deep0.node-1 PACE=100000000 BARRIER=30 FILE=KERNELS0 STATE_RFILE=../../../RestartKernels RESTART=YES\n",
    "\n",
    "# define old cv\n",
    "deep1: PYTORCH_MODEL FILE=../../../../../../../../../../../../../deeptica/model.ptc ARG=d1,d2,d3,d4,d5,d6,d7,d8,d9,d10,d11,d12,d13,d14,d15,d16,d17,d18,d19,d20,d21,d22,d23,d24,d25,d26,d27,d28,d29,d30,d31,d32,d33,d34,d35,d36,d37,d38,d39,d40,d41,d42,d43,d44,d45\n",
    "# static bias\n",
    "#static1: OPES_METAD ARG=deep1.node-0,deep1.node-1 PACE=100000000 BARRIER=35 FILE=KERNELS0 STATE_RFILE=../../RestartKernels RESTART=YES\n",
    "\n",
    "# define old cv\n",
    "deep2: PYTORCH_MODEL FILE=../../../../../../../../../../../../deeptica/model.ptc ARG=d1,d2,d3,d4,d5,d6,d7,d8,d9,d10,d11,d12,d13,d14,d15,d16,d17,d18,d19,d20,d21,d22,d23,d24,d25,d26,d27,d28,d29,d30,d31,d32,d33,d34,d35,d36,d37,d38,d39,d40,d41,d42,d43,d44,d45\n",
    "# static bias\n",
    "#static2: OPES_METAD ARG=deep2.node-0,deep2.node-1 PACE=100000000 BARRIER=40 FILE=KERNELS0 STATE_RFILE=../RestartKernels RESTART=YES\n",
    "\n",
    "# define old cv\n",
    "deep3: PYTORCH_MODEL FILE=../../../../../../../../../../../deeptica/model.ptc ARG=d1,d2,d3,d4,d5,d6,d7,d8,d9,d10,d11,d12,d13,d14,d15,d16,d17,d18,d19,d20,d21,d22,d23,d24,d25,d26,d27,d28,d29,d30,d31,d32,d33,d34,d35,d36,d37,d38,d39,d40,d41,d42,d43,d44,d45\n",
    "# static bias\n",
    "#static3: OPES_METAD ARG=deep3.node-0,deep3.node-1 PACE=100000000 BARRIER=40 FILE=KERNELS0 STATE_RFILE=../RestartKernels RESTART=YES\n",
    "\n",
    "# define old cv\n",
    "deep4: PYTORCH_MODEL FILE=../../../../../../../../../../deeptica/model.ptc ARG=d1,d2,d3,d4,d5,d6,d7,d8,d9,d10,d11,d12,d13,d14,d15,d16,d17,d18,d19,d20,d21,d22,d23,d24,d25,d26,d27,d28,d29,d30,d31,d32,d33,d34,d35,d36,d37,d38,d39,d40,d41,d42,d43,d44,d45\n",
    "# static bias\n",
    "#static4: OPES_METAD ARG=deep4.node-0,deep4.node-1 PACE=100000000 BARRIER=40 FILE=KERNELS0 STATE_RFILE=../RestartKernels RESTART=YES\n",
    "\n",
    "# define old cv\n",
    "deep5: PYTORCH_MODEL FILE=../../../../../../../../../deeptica/model.ptc ARG=d1,d2,d3,d4,d5,d6,d7,d8,d9,d10,d11,d12,d13,d14,d15,d16,d17,d18,d19,d20,d21,d22,d23,d24,d25,d26,d27,d28,d29,d30,d31,d32,d33,d34,d35,d36,d37,d38,d39,d40,d41,d42,d43,d44,d45\n",
    "# static bias\n",
    "#static5: OPES_METAD ARG=deep5.node-0,deep5.node-1 PACE=100000000 BARRIER=40 FILE=KERNELS0 STATE_RFILE=../RestartKernels RESTART=YES\n",
    "\n",
    "# define old cv\n",
    "deep6: PYTORCH_MODEL FILE=../../../../../../../../deeptica/model.ptc ARG=d1,d2,d3,d4,d5,d6,d7,d8,d9,d10,d11,d12,d13,d14,d15,d16,d17,d18,d19,d20,d21,d22,d23,d24,d25,d26,d27,d28,d29,d30,d31,d32,d33,d34,d35,d36,d37,d38,d39,d40,d41,d42,d43,d44,d45\n",
    "# static bias\n",
    "#static6: OPES_METAD ARG=deep6.node-0,deep6.node-1 PACE=100000000 BARRIER=40 FILE=KERNELS0 STATE_RFILE=../RestartKernels RESTART=YES\n",
    "\n",
    "# define old cv\n",
    "deep7: PYTORCH_MODEL FILE=../../../../../../../deeptica/model.ptc ARG=d1,d2,d3,d4,d5,d6,d7,d8,d9,d10,d11,d12,d13,d14,d15,d16,d17,d18,d19,d20,d21,d22,d23,d24,d25,d26,d27,d28,d29,d30,d31,d32,d33,d34,d35,d36,d37,d38,d39,d40,d41,d42,d43,d44,d45\n",
    "# static bias\n",
    "#static7: OPES_METAD ARG=deep7.node-0,deep7.node-1 PACE=100000000 BARRIER=40 FILE=KERNELS0 STATE_RFILE=../RestartKernels RESTART=YES\n",
    "\n",
    "# define old cv\n",
    "deep8: PYTORCH_MODEL FILE=../../../../../../deeptica/model.ptc ARG=d1,d2,d3,d4,d5,d6,d7,d8,d9,d10,d11,d12,d13,d14,d15,d16,d17,d18,d19,d20,d21,d22,d23,d24,d25,d26,d27,d28,d29,d30,d31,d32,d33,d34,d35,d36,d37,d38,d39,d40,d41,d42,d43,d44,d45\n",
    "# static bias\n",
    "#static8: OPES_METAD ARG=deep8.node-0,deep8.node-1 PACE=100000000 BARRIER=40 FILE=KERNELS0 STATE_RFILE=../RestartKernels RESTART=YES\n",
    "\n",
    "# define old cv\n",
    "deep9: PYTORCH_MODEL FILE=../../../../../deeptica/model.ptc ARG=d1,d2,d3,d4,d5,d6,d7,d8,d9,d10,d11,d12,d13,d14,d15,d16,d17,d18,d19,d20,d21,d22,d23,d24,d25,d26,d27,d28,d29,d30,d31,d32,d33,d34,d35,d36,d37,d38,d39,d40,d41,d42,d43,d44,d45\n",
    "# static bias\n",
    "#static9: OPES_METAD ARG=deep9.node-0,deep9.node-1 PACE=100000000 BARRIER=40 FILE=KERNELS0 STATE_RFILE=../RestartKernels RESTART=YES\n",
    "\n",
    "# define old cv\n",
    "deep10: PYTORCH_MODEL FILE=../../../../deeptica/model.ptc ARG=d1,d2,d3,d4,d5,d6,d7,d8,d9,d10,d11,d12,d13,d14,d15,d16,d17,d18,d19,d20,d21,d22,d23,d24,d25,d26,d27,d28,d29,d30,d31,d32,d33,d34,d35,d36,d37,d38,d39,d40,d41,d42,d43,d44,d45\n",
    "# static bias\n",
    "#static10: OPES_METAD ARG=deep10.node-0,deep10.node-1 PACE=100000000 BARRIER=40 FILE=KERNELS0 STATE_RFILE=../RestartKernels RESTART=YES\n",
    "\n",
    "# define old cv\n",
    "deep11: PYTORCH_MODEL FILE=../../../deeptica/model.ptc ARG=d1,d2,d3,d4,d5,d6,d7,d8,d9,d10,d11,d12,d13,d14,d15,d16,d17,d18,d19,d20,d21,d22,d23,d24,d25,d26,d27,d28,d29,d30,d31,d32,d33,d34,d35,d36,d37,d38,d39,d40,d41,d42,d43,d44,d45\n",
    "# static bias\n",
    "#static11: OPES_METAD ARG=deep11.node-0,deep11.node-1 PACE=100000000 BARRIER=40 FILE=KERNELS0 STATE_RFILE=../RestartKernels RESTART=YES\n",
    "\n",
    "# define old cv\n",
    "deep12: PYTORCH_MODEL FILE=../../deeptica/model.ptc ARG=d1,d2,d3,d4,d5,d6,d7,d8,d9,d10,d11,d12,d13,d14,d15,d16,d17,d18,d19,d20,d21,d22,d23,d24,d25,d26,d27,d28,d29,d30,d31,d32,d33,d34,d35,d36,d37,d38,d39,d40,d41,d42,d43,d44,d45\n",
    "# static bias\n",
    "#static12: OPES_METAD ARG=deep12.node-0,deep12.node-1 PACE=100000000 BARRIER=40 FILE=KERNELS0 STATE_RFILE=../RestartKernels RESTART=YES\n",
    "\n",
    "# define cv\n",
    "deep13: PYTORCH_MODEL FILE=../deeptica/model.ptc ARG=d1,d2,d3,d4,d5,d6,d7,d8,d9,d10,d11,d12,d13,d14,d15,d16,d17,d18,d19,d20,d21,d22,d23,d24,d25,d26,d27,d28,d29,d30,d31,d32,d33,d34,d35,d36,d37,d38,d39,d40,d41,d42,d43,d44,d45\n",
    "#excluded region\n",
    "\"\"\"+\n",
    "excluded_region\n",
    "+\"\"\"\n",
    "# bias \n",
    "opes: OPES_METAD ARG=deep13.node-0,deep13.node-1 TEMP=300 PACE=100 FILE=KERNELS BARRIER=35 STATE_WFILE=RestartKernels STATE_WSTRIDE=500*10\n",
    " \n",
    "# every 1/5 ps\n",
    "PRINT FMT=%g STRIDE=100 FILE=COLVAR ARG=*\n",
    "\n",
    "ENDPLUMED\n",
    "\"\"\",file=file)\n",
    "\n",
    "#-- run gromacs --#\n",
    "execute(\"cp script/input.* script/plumed_descriptors.data script/run_gromacs.sh \"+folder,folder=\".\")\n",
    "\n",
    "# restart simulation\n",
    "execute(\"sed -i '0,/cpi_state/s/cpi_state.*/cpi_state=true/' run_gromacs.sh\",folder=folder, print_result=False)\n",
    "execute(\"cp ../alanine.* .\",folder=folder, print_result=False)"
   ]
  }
 ],
 "metadata": {
  "kernelspec": {
   "display_name": "Python 3 (ipykernel)",
   "language": "python",
   "name": "python3"
  },
  "language_info": {
   "codemirror_mode": {
    "name": "ipython",
    "version": 3
   },
   "file_extension": ".py",
   "mimetype": "text/x-python",
   "name": "python",
   "nbconvert_exporter": "python",
   "pygments_lexer": "ipython3",
   "version": "3.7.9"
  }
 },
 "nbformat": 4,
 "nbformat_minor": 4
}
