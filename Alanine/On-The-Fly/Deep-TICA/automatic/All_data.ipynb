{
 "cells": [
  {
   "cell_type": "markdown",
   "metadata": {},
   "source": [
    "# Analysis\n",
    "In this notebook I analyze all the data collected through the iterations for the reinforcement TICA "
   ]
  },
  {
   "cell_type": "markdown",
   "metadata": {},
   "source": [
    "### Import needed modules and useful functions"
   ]
  },
  {
   "cell_type": "code",
   "execution_count": null,
   "metadata": {},
   "outputs": [],
   "source": [
    "#-- useful python script for training the DeepTICA cvs --#\n",
    "from utils import *\n",
    "\n",
    "#-- to not visualize warnings --#\n",
    "import warnings\n",
    "warnings.filterwarnings('ignore')"
   ]
  },
  {
   "cell_type": "markdown",
   "metadata": {},
   "source": [
    "### Simulation parameters "
   ]
  },
  {
   "cell_type": "code",
   "execution_count": null,
   "metadata": {},
   "outputs": [],
   "source": [
    "iterations = 10\n",
    "\n",
    "kb=0.008314\n",
    "#-- SIMULATION PARAMETERS --#\n",
    "sim_parameters = {\n",
    "    'temp':300, \n",
    "    'beta': 1./(300*kb),\n",
    "    'kbt': None,\n",
    "    #-- parameters to compute the fes --#\n",
    "    'blocks':2,\n",
    "    'bandwidth': 0.02,\n",
    "    'plot_max_fes' :70,\n",
    "}\n",
    "#--------------------------------------#"
   ]
  },
  {
   "cell_type": "markdown",
   "metadata": {},
   "source": [
    "# Prepare input files for plumed"
   ]
  },
  {
   "cell_type": "code",
   "execution_count": null,
   "metadata": {},
   "outputs": [],
   "source": [
    "List =[]\n",
    "folder = \"unbias_A/\"\n",
    "for i in range(1,iterations):\n",
    "    List.append(folder)\n",
    "    folder += \"bias\"+str(i)+\"/\"\n",
    "List.append(folder)"
   ]
  },
  {
   "cell_type": "code",
   "execution_count": null,
   "metadata": {},
   "outputs": [],
   "source": [
    "#fig,ax = plt.subplots(1,1,figsize=(10,8))\n",
    "#color = [\"b\",\"r\",\"g\",\"orange\"]\n",
    "for k,set in enumerate(List):\n",
    "\n",
    "    fig,ax = plt.subplots(1,1,figsize=(6,6))\n",
    "    data = load_dataframe(set+\"COLVAR\") \n",
    "    descriptors_names = data.filter(regex='^d[^a-z]').columns.values \n",
    "    #data.plot.scatter(y=\"psi\",x=\"phi\",ax=ax,c=color[k])\n",
    "    data.plot.scatter(y=\"psi\",x=\"phi\",ax=ax)\n",
    "\n",
    "    fes = np.loadtxt(\"../../../angles/fes.txt\",delimiter=\" \")\n",
    "    grid0 = np.loadtxt(\"../../../angles/grid0.txt\",delimiter=\" \")\n",
    "    grid1 = np.loadtxt(\"../../../angles/grid1.txt\",delimiter=\" \")\n",
    "    bounds = np.arange(0, 60, 5.)\n",
    "    c = ax.contour(grid0, grid1, fes, bounds, linewidths=3,cmap=\"gray\",linestyles=\"dashed\",\n",
    "        norm = mpl.colors.BoundaryNorm(bounds, ncolors=len(bounds)-1, clip=False), label=\"FES [Kj/mol]\",\n",
    "    )\n",
    "    c.clabel()\n",
    "    ax.grid()\n",
    "    ax.set_title(set)\n",
    "    ax.set_xlabel(r\"$\\phi$\")\n",
    "    ax.set_ylabel(r\"$\\psi$\")\n",
    "    plt.tight_layout()"
   ]
  },
  {
   "cell_type": "code",
   "execution_count": null,
   "metadata": {},
   "outputs": [],
   "source": [
    "#fig,axs = plt.subplots(1,2,figsize=(16,6))\n",
    "for k,set in enumerate(List):\n",
    "    fig,axs = plt.subplots(1,2,figsize=(6,4))\n",
    "    data = load_dataframe(set+\"COLVAR\")\n",
    "    data.plot.scatter(x=\"time\",y=\"psi\",ax=axs[0])#, color=color[k])\n",
    "    data.plot.scatter(x=\"time\",y=\"phi\",ax=axs[1])#, color=color[k])\n",
    "\n",
    "    axs[0].set_title(set)\n",
    "    plt.tight_layout()"
   ]
  },
  {
   "cell_type": "code",
   "execution_count": null,
   "metadata": {},
   "outputs": [],
   "source": [
    "# variance and mean of cvs\n",
    "for k,set in enumerate(List[1:]):\n",
    "    data = load_dataframe(set+\"COLVAR\")\n",
    "    cv = data[\"deep\"+str(k)+\".node-0\"].values\n",
    "    logweight = data[\"opes.bias\"].to_numpy()-max(data[\"opes.bias\"].to_numpy())*sim_parameters[\"beta\"]\n",
    "    mean = np.average(cv)#,weights=np.exp(logweight))\n",
    "    variance = np.cov(cv)#,aweights=np.exp(logweight))\n",
    "    print(\"average: \", mean, \"\\tvariance: \", variance)"
   ]
  },
  {
   "cell_type": "code",
   "execution_count": null,
   "metadata": {},
   "outputs": [],
   "source": [
    "'''\n",
    "# cvs isolines, after simulations\n",
    "for k,set in enumerate(List[1:]):\n",
    "    fig,ax = plt.subplots(1,1,figsize=(6,6))\n",
    "    data = load_dataframe(set+\"COLVAR\")\n",
    "    data.plot.hexbin(y=\"psi\",x=\"phi\",C=\"deep\"+str(k)+\".node-0\",cmap=\"Set1\",ax=ax)#,ax=axs[k])\n",
    "\n",
    "    fes = np.loadtxt(\"../../../angles/fes.txt\",delimiter=\" \")\n",
    "    grid0 = np.loadtxt(\"../../../angles/grid0.txt\",delimiter=\" \")\n",
    "    grid1 = np.loadtxt(\"../../../angles/grid1.txt\",delimiter=\" \")\n",
    "    bounds = np.arange(0, 60, 5.)\n",
    "    c = ax.contour(grid0, grid1, fes, bounds, linewidths=3,cmap=\"gray\",linestyles=\"dashed\",\n",
    "        norm = mpl.colors.BoundaryNorm(bounds, ncolors=len(bounds)-1, clip=False), label=\"FES [Kj/mol]\",\n",
    "    )\n",
    "    c.clabel()\n",
    "    ax.grid()\n",
    "    ax.set_title(set)\n",
    "    ax.set_xlabel(r\"$\\phi$\")\n",
    "    ax.set_ylabel(r\"$\\psi$\")\n",
    "    plt.tight_layout()\n",
    "'''"
   ]
  },
  {
   "cell_type": "code",
   "execution_count": null,
   "metadata": {},
   "outputs": [],
   "source": [
    "# cvs isolines, before simulations\n",
    "for k,set in enumerate(List[:]):\n",
    "\n",
    "    data = load_dataframe(set+\"COLVAR\")\n",
    "    model = DeepTICA_CV([len(descriptors_names),30,30,2],activation='tanh')\n",
    "    model.load_checkpoint(set+\"deeptica/model_checkpoint.pt\")\n",
    "    X = data[descriptors_names].to_numpy()\n",
    "    data[\"cv1\"] = np.transpose(model(torch.Tensor(X)).detach().cpu().numpy())[0]\n",
    "    data[\"cv2\"] = np.transpose(model(torch.Tensor(X)).detach().cpu().numpy())[1]\n",
    "\n",
    "    fig,axs = plt.subplots(1,2,figsize=(12,4),sharey=True)\n",
    "    data.plot.hist(y=\"cv1\",bins=20,ax=axs[0],density=True,color=\"b\")\n",
    "    data.plot.hist(y=\"cv2\",bins=20,ax=axs[1],density=True,color=\"b\")\n",
    "\n",
    "    fig,ax = plt.subplots(1,2,figsize=(12,6))\n",
    "    data.plot.hexbin(y=\"psi\",x=\"phi\",C=\"cv1\",cmap=\"Set1\",ax=ax[0])#,ax=axs[k])\n",
    "    data.plot.hexbin(y=\"psi\",x=\"phi\",C=\"cv2\",cmap=\"Set1\",ax=ax[1])\n",
    "\n",
    "    fes = np.loadtxt(\"../../../angles/fes.txt\",delimiter=\" \")\n",
    "    grid0 = np.loadtxt(\"../../../angles/grid0.txt\",delimiter=\" \")\n",
    "    grid1 = np.loadtxt(\"../../../angles/grid1.txt\",delimiter=\" \")\n",
    "    bounds = np.arange(0, 60, 5.)\n",
    "    c = ax[0].contour(grid0, grid1, fes, bounds, linewidths=3,cmap=\"gray\",linestyles=\"dashed\",\n",
    "        norm = mpl.colors.BoundaryNorm(bounds, ncolors=len(bounds)-1, clip=False), label=\"FES [Kj/mol]\",\n",
    "    )\n",
    "    c = ax[1].contour(grid0, grid1, fes, bounds, linewidths=3,cmap=\"gray\",linestyles=\"dashed\",\n",
    "        norm = mpl.colors.BoundaryNorm(bounds, ncolors=len(bounds)-1, clip=False), label=\"FES [Kj/mol]\",\n",
    "    )\n",
    "    c.clabel()\n",
    "    ax[0].grid()\n",
    "    ax[0].set_title(set)\n",
    "    ax[0].set_xlabel(r\"$\\phi$\")\n",
    "    ax[0].set_ylabel(r\"$\\psi$\")\n",
    "    ax[1].grid()\n",
    "    ax[1].set_title(set)\n",
    "    ax[1].set_xlabel(r\"$\\phi$\")\n",
    "    ax[1].set_ylabel(r\"$\\psi$\")\n",
    "    plt.tight_layout()"
   ]
  },
  {
   "cell_type": "code",
   "execution_count": null,
   "metadata": {},
   "outputs": [],
   "source": [
    "# cvs isolines, on all psi-phi space before bias simulations\n",
    "#fig,axs = plt.subplots(1,3,figsize=(20,8))\n",
    "for k,set in enumerate(List[:]):\n",
    "    \n",
    "    model = DeepTICA_CV([len(descriptors_names),30,30,2],activation='tanh')\n",
    "    model.load_checkpoint(set+\"deeptica/model_checkpoint.pt\")\n",
    "    data_complete = load_dataframe(\"../../../angles/COLVAR\")\n",
    "    X_complete = data_complete[descriptors_names].to_numpy() \n",
    "    data_complete[\"cv1\"] = np.transpose(model(torch.Tensor(X_complete)).detach().cpu().numpy())[0]\n",
    "    data_complete[\"cv2\"] = np.transpose(model(torch.Tensor(X_complete)).detach().cpu().numpy())[1]   \n",
    "\n",
    "    fig,ax = plt.subplots(1,2,figsize=(12,6))\n",
    "    data_complete.plot.hexbin(y=\"psi\",x=\"phi\",C=\"cv1\",cmap=\"Set1\",ax=ax[0])#,ax=axs[k])\n",
    "    data_complete.plot.hexbin(y=\"psi\",x=\"phi\",C=\"cv2\",cmap=\"Set1\",ax=ax[1])\n",
    "\n",
    "    fes = np.loadtxt(\"../../../angles/fes.txt\",delimiter=\" \")\n",
    "    grid0 = np.loadtxt(\"../../../angles/grid0.txt\",delimiter=\" \")\n",
    "    grid1 = np.loadtxt(\"../../../angles/grid1.txt\",delimiter=\" \")\n",
    "    bounds = np.arange(0, 60, 5.)\n",
    "    c = ax[0].contour(grid0, grid1, fes, bounds, linewidths=3,cmap=\"gray\",linestyles=\"dashed\",\n",
    "        norm = mpl.colors.BoundaryNorm(bounds, ncolors=len(bounds)-1, clip=False), label=\"FES [Kj/mol]\",\n",
    "    )\n",
    "    c = ax[1].contour(grid0, grid1, fes, bounds, linewidths=3,cmap=\"gray\",linestyles=\"dashed\",\n",
    "        norm = mpl.colors.BoundaryNorm(bounds, ncolors=len(bounds)-1, clip=False), label=\"FES [Kj/mol]\",\n",
    "    )\n",
    "    c.clabel()\n",
    "    ax[0].grid()\n",
    "    ax[0].set_title(set)\n",
    "    ax[0].set_xlabel(r\"$\\phi$\")\n",
    "    ax[0].set_ylabel(r\"$\\psi$\")\n",
    "    ax[1].grid()\n",
    "    ax[1].set_title(set)\n",
    "    ax[1].set_xlabel(r\"$\\phi$\")\n",
    "    ax[1].set_ylabel(r\"$\\psi$\")\n",
    "    plt.tight_layout()"
   ]
  },
  {
   "cell_type": "code",
   "execution_count": null,
   "metadata": {},
   "outputs": [],
   "source": [
    "# different loss functions and trainigs\n",
    "for k,set in enumerate(List[:]):\n",
    "    \n",
    "    model = DeepTICA_CV([len(descriptors_names),30,30,2],activation='tanh')\n",
    "    model.load_checkpoint(set+\"deeptica/model_checkpoint.pt\")\n",
    "    fig, ax = plt.subplots(1,1,figsize=(6,4))#,dpi=100)\n",
    "    plot_model_lossfunction(model,only_loss=ax)\n",
    "    ax.set_title(set)\n",
    "\n",
    "plt.tight_layout()"
   ]
  },
  {
   "cell_type": "code",
   "execution_count": null,
   "metadata": {},
   "outputs": [],
   "source": [
    "#-- estimation of Free Energy Surface --#\n",
    "for k,set in enumerate(List[1:]):\n",
    "    \n",
    "    data = load_dataframe(set+\"COLVAR\")\n",
    "    s = data.filter(regex=\"^p\").to_numpy()\n",
    "    logweight=( data[\"opes.bias\"].to_numpy()-max(data[\"opes.bias\"].to_numpy()) )*sim_parameters[\"beta\"]\n",
    "\n",
    "    fig, ax = plt.subplots(figsize=(6,4))\n",
    "    for i in range(2):\n",
    "        fes,grid,bounds,error = compute_fes(s[:,i], weights=np.exp(logweight),\n",
    "                                            temp=sim_parameters[\"temp\"],\n",
    "                                            kbt=sim_parameters[\"kbt\"],\n",
    "                                            blocks=sim_parameters[\"blocks\"],\n",
    "                                            bandwidth=sim_parameters[\"bandwidth\"],scale_by='range',\n",
    "                                            plot=True, plot_max_fes=sim_parameters[\"plot_max_fes\"], ax = ax)\n",
    "    ax.legend([r\"$F(\\phi)$ estimate\",r\"$F(\\psi)$ estimate\"])   \n",
    "    ax.grid()\n",
    "    plt.tight_layout()\n",
    "    ax.set_title(set)\n",
    "    ax.set_xlabel(r\"$(\\phi,\\psi)$\")\n",
    "    ax.set_ylabel(\"FES [Kj/mol]\")\n",
    "\n",
    "    plt.show()"
   ]
  },
  {
   "cell_type": "code",
   "execution_count": null,
   "metadata": {},
   "outputs": [],
   "source": [
    "# load model from folder\n",
    "#X, t, logweight = data[descriptors_names].values, data['time'].to_numpy(). data[\"opes.bias\"].to_numpy()\n",
    "#logweight = ( logweight-max(logweight) ) / sim_parameters[\"temp\"]"
   ]
  },
  {
   "cell_type": "code",
   "execution_count": null,
   "metadata": {},
   "outputs": [],
   "source": [
    "# Pearson correlations\n",
    "'''\n",
    "for k,set in enumerate(List[:-1]):\n",
    "\n",
    "    data = load_dataframe(set+\"COLVAR\")\n",
    "    model = DeepTICA_CV([len(descriptors_names),30,30,2],activation='tanh')\n",
    "    model.load_checkpoint(set+\"deeptica/model_checkpoint.pt\")\n",
    "    X = data[descriptors_names].to_numpy()\n",
    "    data[\"cv1\"] = np.transpose(model(torch.Tensor(X)).detach().cpu().numpy())[0]\n",
    "    data[\"cv2\"] = np.transpose(model(torch.Tensor(X)).detach().cpu().numpy())[1]\n",
    "\n",
    "    fig,axs = plt.subplots(2,1,figsize=(16,12),sharex=True)\n",
    "    for k,cv in enumerate([\"cv1\",\"cv2\"]):\n",
    "        cols = [cv]\n",
    "        cols.extend(data[descriptors_names].columns)\n",
    "        corr = data[cols].corr(method='pearson')\n",
    "        corr[cv].drop(cv).plot(kind='bar', ax=axs[k], rot=35, color=\"b\",label=r\"$C(deep|desc)$\")\n",
    "        axs[k].set_title('Correlation with DeepTICA '+str(k+1))\n",
    "    plt.tight_layout()\n",
    "    plt.show()\n",
    "'''"
   ]
  },
  {
   "cell_type": "markdown",
   "metadata": {},
   "source": [
    "### FES estimate from cvs  \n",
    "Obviously from this first simulation it is not possible to found a cvs that from data are able to distinguish all the possible basins. I recall that our approach is a **data drive approach**.  \n"
   ]
  },
  {
   "cell_type": "code",
   "execution_count": null,
   "metadata": {},
   "outputs": [],
   "source": [
    "#-- estimation of Free Energy Surface --#\n",
    "for k,set in enumerate(List[1:]):\n",
    "\n",
    "    data = load_dataframe(set+\"COLVAR\")\n",
    "    model = DeepTICA_CV([len(descriptors_names),30,30,2],activation='tanh')\n",
    "    model.load_checkpoint(set+\"deeptica/model_checkpoint.pt\")\n",
    "    X = data[descriptors_names].to_numpy()\n",
    "    data[\"cv1\"] = np.transpose(model(torch.Tensor(X)).detach().cpu().numpy())[0]\n",
    "    data[\"cv2\"] = np.transpose(model(torch.Tensor(X)).detach().cpu().numpy())[1]\n",
    "    s = data.filter(regex=\"^cv\").to_numpy()\n",
    "    logweight=( data[\"opes.bias\"].to_numpy()-max(data[\"opes.bias\"].to_numpy()) )*sim_parameters[\"beta\"]\n",
    "    \n",
    "    fig, ax = plt.subplots(figsize=(6,6))\n",
    "    for i in range(2):\n",
    "        fes,grid,bounds,error = compute_fes(s[:,i], weights=np.exp(logweight),\n",
    "                                            temp=sim_parameters[\"temp\"],\n",
    "                                            kbt=sim_parameters[\"kbt\"],\n",
    "                                            blocks=sim_parameters[\"blocks\"],\n",
    "                                            bandwidth=sim_parameters[\"bandwidth\"],scale_by='range',\n",
    "                                            plot=True, plot_max_fes=sim_parameters[\"plot_max_fes\"], ax = ax)\n",
    "    ax.legend([\"F(cv1) estimate\",\"F(cv2) estimate\"])   \n",
    "    ax.grid()\n",
    "    plt.tight_layout()\n",
    "    ax.set_title(set)\n",
    "    ax.set_xlabel(r\"$(cv1,cv2)$\")\n",
    "    ax.set_ylabel(\"FES [Kj/mol]\")\n",
    "\n",
    "plt.show()"
   ]
  },
  {
   "cell_type": "code",
   "execution_count": null,
   "metadata": {},
   "outputs": [],
   "source": [
    "## attempt to obtain estimate of free energy from all the combined data\n",
    "alldata = []\n",
    "# I will not consider the unbias simulation for simplicity\n",
    "for set in List[1:]:\n",
    "    data = load_dataframe(set+\"COLVAR\")\n",
    "    alldata.append(data)\n",
    "alldata = pd.concat(alldata,ignore_index=True).replace(np.nan, 0)\n",
    "# shuffle all datas\n",
    "alldata = alldata.sample(frac=1)"
   ]
  },
  {
   "cell_type": "code",
   "execution_count": null,
   "metadata": {},
   "outputs": [],
   "source": [
    "# estimation of free energy in phi and psi\n",
    "s = alldata.filter(regex=\"^p\").to_numpy()\n",
    "logweight=( alldata[\"opes.bias\"].to_numpy()-max(alldata[\"opes.bias\"].to_numpy()) )*sim_parameters[\"beta\"]\n",
    "\n",
    "fig, ax = plt.subplots(figsize=(6,6))\n",
    "for i in range(2):\n",
    "    fes,grid,bounds,error = compute_fes(s[:,i], weights=np.exp(logweight),\n",
    "                                        temp=sim_parameters[\"temp\"],\n",
    "                                        kbt=sim_parameters[\"kbt\"],\n",
    "                                        blocks=sim_parameters[\"blocks\"],\n",
    "                                        bandwidth=sim_parameters[\"bandwidth\"],scale_by='range',\n",
    "                                        plot=True, plot_max_fes=sim_parameters[\"plot_max_fes\"], ax = ax)\n",
    "ax.legend([r\"$F(\\phi)$ estimate\",r\"$F(\\psi)$ estimate\"])   \n",
    "ax.grid()\n",
    "plt.tight_layout()\n",
    "ax.set_xlabel(r\"$(\\phi,\\psi)$\")\n",
    "ax.set_ylabel(\"FES [Kj/mol]\")"
   ]
  },
  {
   "cell_type": "code",
   "execution_count": null,
   "metadata": {},
   "outputs": [],
   "source": []
  }
 ],
 "metadata": {
  "kernelspec": {
   "display_name": "Python 3 (ipykernel)",
   "language": "python",
   "name": "python3"
  },
  "language_info": {
   "codemirror_mode": {
    "name": "ipython",
    "version": 3
   },
   "file_extension": ".py",
   "mimetype": "text/x-python",
   "name": "python",
   "nbconvert_exporter": "python",
   "pygments_lexer": "ipython3",
   "version": "3.7.9"
  }
 },
 "nbformat": 4,
 "nbformat_minor": 4
}
