{
 "cells": [
  {
   "cell_type": "markdown",
   "metadata": {},
   "source": [
    "# Import needed modules and useful functions"
   ]
  },
  {
   "cell_type": "code",
   "execution_count": null,
   "metadata": {},
   "outputs": [],
   "source": [
    "#-- necessary modules --#\n",
    "import numpy as np\n",
    "np.random.seed(13)\n",
    "import pandas as pd\n",
    "import torch\n",
    "import matplotlib.pyplot as plt\n",
    "from matplotlib.gridspec import GridSpec\n",
    "plt.rcParams.update({'font.size': 15})\n",
    "import matplotlib as mpl\n",
    "from scipy import integrate\n",
    "\n",
    "#-- to computer fes --#\n",
    "from mlcvs.utils.fes import compute_fes\n",
    "\n",
    "#-- to run process from jupyter --#\n",
    "import subprocess\n",
    "import os\n",
    "from pathlib import Path\n",
    "# execute bash command in the given folder\n",
    "def execute(command, folder, background=False):\n",
    "    cmd = subprocess.run(command, cwd=folder, shell=True, capture_output = True, text=True, close_fds=background)\n",
    "    if cmd.returncode == 0:\n",
    "        print(f'Completed: {command}')\n",
    "    else:\n",
    "        print(cmd.stderr)\n",
    "\n",
    "#-- python script for write correct input files for \"ves_md_linearexpansion\" plumed module --#\n",
    "from input_VES import *\n",
    "#-- useful python script for training the DeepTICA cvs --#\n",
    "from utils import *\n",
    "\n",
    "#-- to not visualize warnings --#\n",
    "import warnings\n",
    "warnings.filterwarnings('ignore')"
   ]
  },
  {
   "cell_type": "markdown",
   "metadata": {},
   "source": [
    "# Simulation parameters "
   ]
  },
  {
   "cell_type": "code",
   "execution_count": null,
   "metadata": {},
   "outputs": [],
   "source": [
    "#-- SIMULATION PARAMETERS --#\n",
    "sim_parameters = {\n",
    "    'nstep':1000000,#200000000, \n",
    "    'plumedseed':4525,\n",
    "    'friction':10,\n",
    "    'temp':0.5, #kbt units\n",
    "    #-- upper basin --#\n",
    "    #'initial_position':[0.6,0.02],\n",
    "    #-- middle basin --#\n",
    "    #'initial_position':[-0.05,0.47],\n",
    "    #-- lower basin --#\n",
    "    'initial_position':[-0.55,1.45],\n",
    "    #-- parameters to compute the fes --#\n",
    "    'blocks':2,\n",
    "    'bandwidth': 0.02,\n",
    "    'plot_max_fes' :16,\n",
    "}\n",
    "#--------------------------------------#"
   ]
  },
  {
   "cell_type": "markdown",
   "metadata": {},
   "source": [
    "# Prepare input files for plumed"
   ]
  },
  {
   "cell_type": "code",
   "execution_count": null,
   "metadata": {},
   "outputs": [],
   "source": [
    "folder = \"unbias/bias1/\"\n",
    "Path(folder).mkdir(parents=True, exist_ok=True)\n",
    "\n",
    "with open(folder+\"plumed.dat\",\"w\") as file:\n",
    "    print(\"\"\"\n",
    "# vim:ft=plumed\n",
    "\n",
    "# using natural units for Toy Model \n",
    "UNITS NATURAL\n",
    "\n",
    "# compute position for the one particle  \n",
    "p: POSITION ATOM=1\n",
    "# adding external potential \n",
    "potential: CUSTOM ARG=p.x,p.y FUNC=\"\"\"+Mullerpot(),\"\"\"PERIODIC=NO\n",
    "ene: BIASVALUE ARG=potential\n",
    "\n",
    "# definition of Deep-TICA cvs \n",
    "deep: PYTORCH_MODEL FILE=../deeptica/model.ptc ARG=p.x,p.y\n",
    "\n",
    "# Bias \n",
    "opes: OPES_METAD ARG=deep.node-0,deep.node-1 TEMP=0.5 PACE=500 FILE=KERNELS BARRIER=7.5 STATE_WFILE=RestartKernels STATE_WSTRIDE=500*10\n",
    "\n",
    "# Print \n",
    "# STRIDE=200 so that the printed time is in 1 ps\n",
    "PRINT FMT=%g STRIDE=200 FILE=COLVAR ARG=deep.node-0,deep.node-1,p.x,p.y,ene.bias,opes.*\n",
    "\n",
    "ENDPLUMED\n",
    "\"\"\",file=file)\n",
    "\n",
    "#-- write input files for ves module --#\n",
    "generate_input_file(name_file=folder+\"input\",nstep=sim_parameters[\"nstep\"],temp=sim_parameters[\"temp\"],\n",
    "                    friction=sim_parameters[\"friction\"],random_seed=sim_parameters[\"plumedseed\"],\n",
    "                    initial_position=sim_parameters[\"initial_position\"])\n",
    "write_coeff(\"0\",folder+\"input\")\n",
    "\n",
    "#-- move necessary files for ves module --#\n",
    "#execute(\"mv pot_coeffs_input.data \"+folder,folder=\".\")\n",
    "#-- run plumed --#\n",
    "#execute(\"plumed ves_md_linearexpansion input\",folder=folder)"
   ]
  },
  {
   "cell_type": "markdown",
   "metadata": {},
   "source": [
    "## Unbias Trajectory "
   ]
  },
  {
   "cell_type": "code",
   "execution_count": null,
   "metadata": {},
   "outputs": [],
   "source": [
    "fig, ax = plt.subplots(figsize=(8,8))\n",
    "\n",
    "x,y = load_dataframe(folder+\"COLVAR\").filter(regex=\"^p.x\").values,load_dataframe(folder+\"COLVAR\").filter(regex=\"^p.y\").values\n",
    "ax.scatter(x,y,color=\"black\",alpha=1,label=\"Trajectory\",s=10)\n",
    "\n",
    "#-- prepare grid points\n",
    "y = np.linspace(-0.3,2.1,150)\n",
    "x = np.linspace(-1.8,1.2,150)\n",
    "X, Y = np.meshgrid(x, y)\n",
    "Z = Mullerfunction(X,Y)\n",
    "#-- set to 0 the lowest basin --#\n",
    "Z-=np.min(Z)\n",
    "\n",
    "#bounds = np.arange(np.min(Z), np.max(Z), 5.)\n",
    "bounds = np.arange(0, 16, 1.)\n",
    "cmap = plt.cm.get_cmap('fessa',len(bounds))\n",
    "colors = list(cmap(np.arange(len(bounds))))\n",
    "cmap = mpl.colors.ListedColormap(colors[:-1], \"\")\n",
    "# set over-color to last color of list \n",
    "cmap.set_over(\"white\")\n",
    "\n",
    "c = plt.pcolormesh(X, Y, Z, cmap=cmap,shading='auto',alpha=1,zorder=-1,\n",
    "    norm = mpl.colors.BoundaryNorm(bounds, ncolors=len(bounds)-1, clip=False)\n",
    ")\n",
    "c = plt.contourf(X, Y, Z, bounds , cmap=cmap,shading='auto',alpha=1,zorder=-1, linewidth=10,\n",
    "    norm = mpl.colors.BoundaryNorm(bounds, ncolors=len(bounds)-1, clip=False), label=\"Energy Surface\"\n",
    ")\n",
    "fig.colorbar(c, ax=ax)\n",
    "c = plt.contour(X, Y, Z, bounds , cmap=\"jet\",shading='auto',alpha=1, linewidth=5, linestyles=\"dashed\")\n",
    "#-- if put label on isolines --#\n",
    "#c.clabel()\n",
    "\n",
    "ax.legend()\n",
    "ax.set_xlabel(r\"$p.x$\")\n",
    "ax.set_ylabel(r\"$p.y$\")\n",
    "ax.set_title(r'$U(x,y)$')\n",
    "plt.tight_layout()"
   ]
  },
  {
   "cell_type": "code",
   "execution_count": null,
   "metadata": {},
   "outputs": [],
   "source": [
    "#-- estimation of Free Energy Surface 1D --#\n",
    "s = load_dataframe(folder+\"COLVAR\").filter(regex=\"^p\").to_numpy()\n",
    "logweight= np.transpose( load_dataframe(folder+\"COLVAR\").filter(regex=\"^opes.bias$\").to_numpy() )[0]/sim_parameters[\"temp\"]\n",
    "\n",
    "fig, ax = plt.subplots(figsize=(10,6))\n",
    "for i in range(2):\n",
    "    fes,grid,bounds,error = compute_fes(s[:,i], weights=np.exp(logweight),\n",
    "                                        kbt=sim_parameters[\"temp\"],\n",
    "                                        blocks=sim_parameters[\"blocks\"],\n",
    "                                        bandwidth=sim_parameters[\"bandwidth\"],scale_by='range',\n",
    "                                        plot=True, plot_max_fes=sim_parameters[\"plot_max_fes\"], ax = ax)\n",
    "ax.legend([\"F(x) estimate\",\"F(y) estimate\"])   \n",
    "ax.grid()\n",
    "ax.set_xlabel(r\"$(x,y)$\")\n",
    "ax.set_ylabel(\"FES [KbT]\")\n",
    "\n",
    "plt.tight_layout()\n",
    "plt.show()"
   ]
  },
  {
   "cell_type": "code",
   "execution_count": null,
   "metadata": {},
   "outputs": [],
   "source": [
    "fig = plt.figure(figsize=(10,10))\n",
    "gs = GridSpec(4, 4)#, figure=fig)\n",
    "\n",
    "ax_scatter = fig.add_subplot(gs[1:4,0:3])\n",
    "ax_hist_x = fig.add_subplot(gs[0,:3])\n",
    "ax_hist_y = fig.add_subplot(gs[1:,3])\n",
    "\n",
    "#-- 2D plot --#\n",
    "fes,grid,bounds,error = compute_fes(s, weights=np.exp(logweight),\n",
    "                                    kbt=sim_parameters[\"temp\"],\n",
    "                                    blocks=sim_parameters[\"blocks\"],\n",
    "                                    bandwidth=sim_parameters[\"bandwidth\"],scale_by='range')\n",
    "                                    #,plot=True, plot_max_fes=sim_parameters[\"plot_max_fes\"], ax = ax_scatter)\n",
    "bounds = np.arange(0, 16, 2.)\n",
    "cmap = plt.cm.get_cmap('fessa',len(bounds))\n",
    "colors = list(cmap(np.arange(len(bounds))))\n",
    "cmap = mpl.colors.ListedColormap(colors[:-1], \"\")\n",
    "# set over-color to last color of list \n",
    "cmap.set_over(\"white\")\n",
    "c = ax_scatter.pcolormesh(grid[0], grid[1], fes, cmap=cmap,shading='auto',alpha=1,\n",
    "    norm = mpl.colors.BoundaryNorm(bounds, ncolors=len(bounds)-1, clip=False), label=\"FES [KbT]\"\n",
    ")\n",
    "c = ax_scatter.contourf(grid[0], grid[1], fes, bounds , cmap=cmap,shading='auto',alpha=1, linewidth=10,\n",
    "    norm = mpl.colors.BoundaryNorm(bounds, ncolors=len(bounds)-1, clip=False), label=\"FES [KbT]\",\n",
    ")\n",
    "#fig.colorbar(c, ax=ax_scatter,label=\"FES [KbT]\")\n",
    "c = ax_scatter.contour(grid[0], grid[1], fes, bounds, linewidths=3,cmap=\"gray\",linestyles=\"dashed\",\n",
    "    norm = mpl.colors.BoundaryNorm(bounds, ncolors=len(bounds)-1, clip=False), label=\"FES [KbT]\",\n",
    ")\n",
    "ax_scatter.legend([\"FES [KbT]\"])\n",
    "c.clabel()\n",
    "ax_scatter.grid()\n",
    "ax_scatter.set_xlabel(r\"$x$\")\n",
    "ax_scatter.set_ylabel(r\"$y$\")\n",
    "\n",
    "#-- 1D plot --#\n",
    "fes,grid,bounds,error = compute_fes(s[:,0], weights=np.exp(logweight),\n",
    "                                    kbt=sim_parameters[\"temp\"],\n",
    "                                    blocks=sim_parameters[\"blocks\"],\n",
    "                                    bandwidth=sim_parameters[\"bandwidth\"],scale_by='range')\n",
    "ax_hist_x.errorbar(grid,fes,yerr=error)\n",
    "ax_hist_x.set_ylabel(\"FES [KbT]\")\n",
    "                                    #,plot=True, plot_max_fes=sim_parameters[\"plot_max_fes\"], ax = ax_hist_y)\n",
    "fes,grid,bounds,error = compute_fes(s[:,1], weights=np.exp(logweight),\n",
    "                                    kbt=sim_parameters[\"temp\"],\n",
    "                                    blocks=sim_parameters[\"blocks\"],\n",
    "                                    bandwidth=sim_parameters[\"bandwidth\"],scale_by='range')\n",
    "                                    #,plot=True, plot_max_fes=sim_parameters[\"plot_max_fes\"], ax = ax_hist_x)\n",
    "ax_hist_y.errorbar(fes,grid,xerr=error)\n",
    "ax_hist_y.set_xlabel(\"FES [KbT]\")\n",
    "\n",
    "plt.tight_layout()\n",
    "plt.show()"
   ]
  },
  {
   "cell_type": "markdown",
   "metadata": {},
   "source": [
    "## Bias simulation DeepTICA Analysis and Export  \n",
    "  \n",
    "Before performing the next training we have to choose the `lag_time` again.  \n",
    "Obviously one can think to look again at $C(\\tau)$, but we must remember that now we are performing a biased simulation, an the time is *accelerated*.  \n",
    "  \n",
    "We can compute the time autocorrelation using the rescale time $d t \\prime = d t e^{\\beta V(\\vec cv (\\vec x))}$"
   ]
  },
  {
   "cell_type": "code",
   "execution_count": null,
   "metadata": {},
   "outputs": [],
   "source": [
    "data = load_dataframe(folder+\"COLVAR\")\n",
    "descriptors_names = data.filter(regex='^p').columns.values\n",
    "\n",
    "fig,axs = plt.subplots(1,2,figsize=(8,4),sharey=True)\n",
    "\n",
    "for ax,desc in zip(axs.flatten(),descriptors_names):\n",
    "    data[desc].plot.hist(bins=50,alpha=1,ax=ax,legend=False,grid=True,histtype='step',linewidth=2,density=True)\n",
    "    data[desc].plot.hist(bins=50,alpha=0.5,ax=ax,legend=False,grid=True,color=\"grey\",density=True)\n",
    "    ax.set_title(desc)\n",
    "\n",
    "fig,axs = plt.subplots(1,2,figsize=(12,6))\n",
    "\n",
    "for ax,desc in zip(axs.flatten(),descriptors_names):\n",
    "    data[::10].plot.scatter(x=\"time\",y=desc,alpha=1,ax=ax,legend=False,grid=True,linewidth=2,marker=\"^\")\n",
    "    data[::10].plot.line(x=\"time\",y=desc,alpha=1,ax=ax,legend=False,grid=True,color=\"grey\")\n",
    "    ax.set_title(desc)\n",
    "\n",
    "plt.tight_layout()"
   ]
  },
  {
   "cell_type": "code",
   "execution_count": null,
   "metadata": {},
   "outputs": [],
   "source": [
    "fig,axs = plt.subplots(1,2,figsize=(14,5))#,sharey=True)\n",
    "\n",
    "#-- in ps --#\n",
    "last=500\n",
    "x = np.linspace(0,last+1,last)\n",
    "acorr = np.empty(last)\n",
    "timescale = np.empty(len(descriptors_names))\n",
    "k=0\n",
    "for desc in descriptors_names:\n",
    "    print(\"autocorrelation for \", desc)\n",
    "    for i in range(last):\n",
    "        acorr[i] = data[desc].autocorr(i)\n",
    "    axs[0].plot(x,acorr)\n",
    "    timescale[k] = integrate.trapz(acorr[:last],x[:last])\n",
    "    k+=1\n",
    "\n",
    "times = pd.DataFrame(descriptors_names,columns=[\"descriptors\"])\n",
    "times[\"timescale\"] = timescale\n",
    "times.plot(kind=\"bar\",x=\"descriptors\",y=\"timescale\",rot=35,ax=axs[1],fontsize=15,label=r\"$\\xi$\")\n",
    "\n",
    "axs[0].set_xlabel(r'$\\tau$')\n",
    "axs[0].set_title(r'$C(\\tau)$')\n",
    "axs[1].set_title(r'$\\xi=\\int d\\tau C(\\tau)$')\n",
    "\n",
    "plt.tight_layout()\n",
    "plt.show()\n",
    "\n",
    "print(np.max(timescale))\n",
    "print(np.min(timescale))\n",
    "\n",
    "#fit_timeacorr(descriptors_names,data,axs=None)"
   ]
  },
  {
   "cell_type": "markdown",
   "metadata": {},
   "source": [
    "It is really difficult to estimate a good $\\tau$.  \n",
    "I have to implement the time auto-correlation function"
   ]
  },
  {
   "cell_type": "code",
   "execution_count": null,
   "metadata": {},
   "outputs": [],
   "source": [
    "#-- TRAINING PARAMETERS --#\n",
    "n_output = 2\n",
    "n_input = 2\n",
    "train_parameters = {\n",
    "              'descriptors': '^p.',\n",
    "              'nodes':[n_input,10,n_output], \n",
    "              'activ_type': 'tanh',\n",
    "              'lag_time':2,\n",
    "              'loss_type': 'sum', \n",
    "              'n_eig': n_output,\n",
    "              'trainsize':0.7,\n",
    "              'lrate':1e-3,\n",
    "              'l2_reg':0.,\n",
    "              'num_epochs':1000,\n",
    "              'earlystop':True,\n",
    "              'es_patience':100,\n",
    "              'es_consecutive':False,\n",
    "              'standardize_outputs':True,\n",
    "              'standardize_inputs': True,\n",
    "              'log_every':50,\n",
    "              #if reweight the timescale\n",
    "              \"reweighting\": True,\n",
    "              }\n",
    "#--------------------------------------#"
   ]
  },
  {
   "cell_type": "markdown",
   "metadata": {},
   "source": [
    "## DeepTICA Analysis and Export"
   ]
  },
  {
   "cell_type": "code",
   "execution_count": null,
   "metadata": {},
   "outputs": [],
   "source": [
    "torch.manual_seed(21)\n",
    "model,data,logweight,X = training(sim_parameters[\"temp\"],folder+\"COLVAR\",train_parameters)\n",
    "\n",
    "#-- move the model back to cpu for convenience --# \n",
    "model.to('cpu')\n",
    "\n",
    "#-- export checkpoint (for loading the model back to python) and torchscript traced module --#\n",
    "save_folder = folder+\"deeptica/\"\n",
    "try:\n",
    "    os.mkdir(save_folder)\n",
    "except:\n",
    "    print(\"already exists\")\n",
    "#-- move to cpu before saving results --#\n",
    "model.to(\"cpu\")\n",
    "model.export(save_folder)\n",
    "print(\"model saved\")\n",
    "\n",
    "#-- print some useful results --#\n",
    "print(\"timescales: \",model.tica.timescales(train_parameters[\"lag_time\"]).detach().cpu().numpy()) \n",
    "print(\"eigenvalues: \",model.tica.evals_.detach().cpu().numpy())"
   ]
  },
  {
   "cell_type": "markdown",
   "metadata": {},
   "source": [
    "## Load existing model  \n",
    "  \n",
    "I recall that it is always possible to load an existing model  \n",
    "\n",
    "```py\n",
    "data = load_dataframe(folder+\"COLVAR\")\n",
    "search_values=\"^p.\"\n",
    "X, t, logweight = data.filter(regex=search_values).values, data['time'].to_numpy(). data[\"opes.bias\"].to_numpy()\n",
    "\n",
    "logweight = ( logweight-max(logweight) ) / sim_parameters[\"temp\"]\n",
    "\n",
    "model = DeepTICA_CV(train_parameters[\"nodes\"],activation=train_parameters['activ_type'])\n",
    "model.load_checkpoint(folder+\"deeptica/model_checkpoint.pt\")\n",
    "```"
   ]
  },
  {
   "cell_type": "code",
   "execution_count": null,
   "metadata": {},
   "outputs": [],
   "source": [
    "plot_model_lossfunction(model)"
   ]
  },
  {
   "cell_type": "markdown",
   "metadata": {},
   "source": [
    "#### Adding to data the cvs values"
   ]
  },
  {
   "cell_type": "code",
   "execution_count": null,
   "metadata": {},
   "outputs": [],
   "source": [
    "data[\"cv1\"] = np.transpose(model(torch.Tensor(X)).detach().cpu().numpy())[0]\n",
    "data[\"cv2\"] = np.transpose(model(torch.Tensor(X)).detach().cpu().numpy())[1]"
   ]
  },
  {
   "cell_type": "code",
   "execution_count": null,
   "metadata": {},
   "outputs": [],
   "source": [
    "fig,axs = plt.subplots(1,2,figsize=(8,4),sharey=True)\n",
    "data.plot.hist(y=\"cv1\",bins=20,ax=axs[0],density=True,color=\"b\")\n",
    "data.plot.hist(y=\"cv2\",bins=20,ax=axs[1],density=True,color=\"r\")"
   ]
  },
  {
   "cell_type": "markdown",
   "metadata": {},
   "source": [
    "We can also plot the correlation (*Pearson* correlation ,which simply means normed correlation) of the Deep-TICA cvs with the descriptors"
   ]
  },
  {
   "cell_type": "code",
   "execution_count": null,
   "metadata": {},
   "outputs": [],
   "source": [
    "fig,axs = plt.subplots(1,2,figsize=(16,4))\n",
    "for k,cv in enumerate([\"cv1\",\"cv2\"]):\n",
    "    cols = [cv]\n",
    "    cols.extend(data.filter(regex='^p.').columns)\n",
    "    corr = data[cols].corr(method='pearson')\n",
    "\n",
    "    corr[cv].drop(cv).plot(kind='bar', ax=axs[k], rot=35)\n",
    "    axs[k].set_title('Correlation with DeepTICA '+str(k+1))\n",
    "plt.show()"
   ]
  },
  {
   "cell_type": "markdown",
   "metadata": {},
   "source": [
    "### FES estimate from new cvs  "
   ]
  },
  {
   "cell_type": "code",
   "execution_count": null,
   "metadata": {},
   "outputs": [],
   "source": [
    "#-- estimation of Free Energy Surface --#\n",
    "s = data.filter(regex=\"^cv\").to_numpy()\n",
    "fig, ax = plt.subplots(figsize=(6,6))\n",
    "for i in range(2):\n",
    "    fes,grid,bounds,error = compute_fes(s[:,i], weights=np.exp(logweight),\n",
    "                                        kbt=sim_parameters[\"temp\"],\n",
    "                                        blocks=sim_parameters[\"blocks\"],\n",
    "                                        bandwidth=sim_parameters[\"bandwidth\"],scale_by='range',\n",
    "                                        plot=True, plot_max_fes=sim_parameters[\"plot_max_fes\"], ax = ax)\n",
    "ax.legend([\"F(cv1) estimate\",\"F(cv2) estimate\"])   \n",
    "ax.grid()\n",
    "plt.tight_layout()\n",
    "ax.set_xlabel(r\"$(cv1,cv2)$\")\n",
    "ax.set_ylabel(\"FES [KbT]\")\n",
    "ax.set_title(\"FES New Deep TICA cvs\")\n",
    "\n",
    "plt.show()"
   ]
  },
  {
   "cell_type": "markdown",
   "metadata": {},
   "source": [
    "### Free Energy Estimation from sampled Deep-TICA Cvs"
   ]
  },
  {
   "cell_type": "code",
   "execution_count": null,
   "metadata": {},
   "outputs": [],
   "source": [
    "#-- estimation of Free Energy Surface --#\n",
    "s = data.filter(regex=\"^deep\").to_numpy()\n",
    "fig, ax = plt.subplots(figsize=(6,6))\n",
    "for i in range(2):\n",
    "    fes,grid,bounds,error = compute_fes(s[:,i], weights=np.exp(logweight),\n",
    "                                        kbt=sim_parameters[\"temp\"],\n",
    "                                        blocks=sim_parameters[\"blocks\"],\n",
    "                                        bandwidth=sim_parameters[\"bandwidth\"],scale_by='range',\n",
    "                                        plot=True, plot_max_fes=sim_parameters[\"plot_max_fes\"], ax = ax)\n",
    "ax.legend([\"F(cv1) estimate\",\"F(cv2) estimate\"])   \n",
    "ax.grid()\n",
    "plt.tight_layout()\n",
    "ax.set_xlabel(r\"$(cv1,cv2)$\")\n",
    "ax.set_ylabel(\"FES [KbT]\")\n",
    "ax.set_title(\"FES sampled Deep TICA cvs\")\n",
    "\n",
    "plt.show()"
   ]
  },
  {
   "cell_type": "markdown",
   "metadata": {},
   "source": [
    "### Isolines  \n",
    "We are working with a two dimensional Potential, and we are using as descriptors the two cartesian coordinates. This allows us to plot the isolines of the cvs on the physical space $(x,y)$    "
   ]
  },
  {
   "cell_type": "code",
   "execution_count": null,
   "metadata": {},
   "outputs": [],
   "source": [
    "#plot_cvs_isolines(model,limits=((-1.8,1.2),(-0.3,2.1)),scatter=X)\n",
    "lim = ((np.min(X[:,0]),np.max(X[:,0])),(np.min(X[:,1]),np.max(X[:,1])))\n",
    "plot_cvs_isolines(model,limits=lim,scatter=X)"
   ]
  },
  {
   "cell_type": "code",
   "execution_count": null,
   "metadata": {},
   "outputs": [],
   "source": [
    "fig,axs = plt.subplots(1,2,figsize=(12,6))\n",
    "for k,ax in enumerate(axs):\n",
    "    data.plot.scatter(y=\"p.y\",x=\"p.x\",c=\"cv\"+str(k+1),cmap=\"viridis\",ax=ax)\n",
    "    ax.set_title('Deep-TICA '+str(k+1))\n",
    "plt.tight_layout()"
   ]
  },
  {
   "cell_type": "markdown",
   "metadata": {},
   "source": [
    "### Orthogonality  \n",
    "Now we want to estimate the scalar product of the Deep-TICA Cvs. In this case we have to reweight the integrale, because our points are distributed according to $p(\\vec x) = \\dfrac{e^{-\\beta ( U(\\vec x) + V (\\vec cv(\\vec x)))}}{\\mathcal{Z}}$. Then finally the scalar product is computed from the following integral $\\int d \\vec x \\psi_1(\\vec x) \\psi_2(\\vec x) e^{-\\beta ( U(\\vec x) + V (\\vec cv(\\vec x)))} e^{\\beta ( V(\\vec cv(\\vec x))}$.  \n",
    "  \n",
    "Even in this case, as already observed their scalar product on the data will lead to a result slightly different from $0$, due to the enforced simmetryzation of $C(\\tau)$"
   ]
  },
  {
   "cell_type": "code",
   "execution_count": null,
   "metadata": {},
   "outputs": [],
   "source": [
    "Boltzmann_product(model,model,X,j=0,k=1,logweight=logweight)"
   ]
  },
  {
   "cell_type": "markdown",
   "metadata": {},
   "source": [
    "This results reflects the fact that we have enforce the symmetrization of $C(\\tau)$  \n",
    "then one can enforce the orthogonality on the data"
   ]
  },
  {
   "cell_type": "code",
   "execution_count": null,
   "metadata": {},
   "outputs": [],
   "source": [
    "#-- check scalar product --#\n",
    "#DeepTICA 1\n",
    "cv1 = np.transpose(model(torch.Tensor(X)).detach().cpu().numpy())[0]\n",
    "#DeepTICA 2 orthogonal to DeepTICA 1\n",
    "new_cv2 = orthogonal_cv(model,X,logweight=logweight)\n",
    "prod = np.multiply(np.multiply(cv1,np.exp(logweight)),new_cv2).mean()\n",
    "print(prod)"
   ]
  },
  {
   "cell_type": "code",
   "execution_count": null,
   "metadata": {},
   "outputs": [],
   "source": [
    "data[\"cv2_orthogonal\"] = new_cv2\n",
    "fig,ax = plt.subplots(1,1,figsize=(6,6))\n",
    "data.plot.scatter(y=\"p.y\",x=\"p.x\",c=\"cv2_orthogonal\",cmap=\"viridis\",ax=ax)\n",
    "ax.set_title('Deep-TICA 2 orthogonal')"
   ]
  }
 ],
 "metadata": {
  "kernelspec": {
   "display_name": "Python 3 (ipykernel)",
   "language": "python",
   "name": "python3"
  },
  "language_info": {
   "codemirror_mode": {
    "name": "ipython",
    "version": 3
   },
   "file_extension": ".py",
   "mimetype": "text/x-python",
   "name": "python",
   "nbconvert_exporter": "python",
   "pygments_lexer": "ipython3",
   "version": "3.7.9"
  }
 },
 "nbformat": 4,
 "nbformat_minor": 4
}
