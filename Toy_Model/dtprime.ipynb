{
 "cells": [
  {
   "cell_type": "markdown",
   "metadata": {},
   "source": [
    "# Import needed modules and useful functions"
   ]
  },
  {
   "cell_type": "code",
   "execution_count": 7,
   "metadata": {},
   "outputs": [],
   "source": [
    "#-- necessary modules --#\n",
    "import numpy as np\n",
    "np.random.seed(13)\n",
    "import pandas as pd\n",
    "import torch\n",
    "import matplotlib.pyplot as plt\n",
    "from matplotlib.gridspec import GridSpec\n",
    "plt.rcParams.update({'font.size': 15})\n",
    "import matplotlib as mpl\n",
    "from scipy import integrate\n",
    "\n",
    "#-- python script for write correct input files for \"ves_md_linearexpansion\" plumed module --#\n",
    "from input_VES import *\n",
    "#-- useful python script for training the DeepTICA cvs --#\n",
    "from utils import *\n",
    "\n",
    "#-- to not visualize warnings --#\n",
    "import warnings\n",
    "warnings.filterwarnings('ignore')"
   ]
  },
  {
   "cell_type": "markdown",
   "metadata": {},
   "source": [
    "# Simulation parameters "
   ]
  },
  {
   "cell_type": "code",
   "execution_count": 8,
   "metadata": {},
   "outputs": [],
   "source": [
    "#-- SIMULATION PARAMETERS --#\n",
    "sim_parameters = {\n",
    "    'nstep':100000, \n",
    "    'plumedseed':4525,\n",
    "    'friction':10,\n",
    "    'temp':0.5, #kbt units\n",
    "    #-- upper basin --#\n",
    "    #'initial_position':[0.6,0.02],\n",
    "    #-- middle basin --#\n",
    "    #'initial_position':[-0.05,0.47],\n",
    "    #-- lower basin --#\n",
    "    'initial_position':[-0.55,1.45],\n",
    "    #-- parameters to compute the fes --#\n",
    "    'blocks':2,\n",
    "    'bandwidth': 0.02,\n",
    "    'plot_max_fes' :16,\n",
    "}\n",
    "#--------------------------------------#"
   ]
  },
  {
   "cell_type": "markdown",
   "metadata": {},
   "source": [
    "# Prepare input files for plumed"
   ]
  },
  {
   "cell_type": "code",
   "execution_count": 9,
   "metadata": {},
   "outputs": [
    {
     "name": "stdout",
     "output_type": "stream",
     "text": [
      "Completed: mv pot_coeffs_input.data test_tprime/\n",
      "Completed: plumed ves_md_linearexpansion input\n"
     ]
    }
   ],
   "source": [
    "folder = \"test_tprime/\"\n",
    "Path(folder).mkdir(parents=True, exist_ok=True)\n",
    "\n",
    "with open(folder+\"plumed.dat\",\"w\") as file:\n",
    "    print(\"\"\"\n",
    "# vim:ft=plumed\n",
    "\n",
    "# using natural units for Toy Model \n",
    "UNITS NATURAL\n",
    "\n",
    "# compute position for the one particle  \n",
    "p: POSITION ATOM=1\n",
    "# adding external potential \n",
    "potential: CUSTOM ARG=p.x,p.y FUNC=\"\"\"+Mullerpot(),\"\"\"PERIODIC=NO\n",
    "ene: BIASVALUE ARG=potential\n",
    "\n",
    "# definition of Deep-TICA cvs \n",
    "deep: PYTORCH_MODEL FILE=../unbias/deeptica/model.ptc ARG=p.x,p.y\n",
    "\n",
    "# Bias \n",
    "opes: OPES_METAD ARG=deep.node-0,deep.node-1 TEMP=0.5 PACE=500 FILE=KERNELS BARRIER=7.5 STATE_WFILE=RestartKernels STATE_WSTRIDE=500*10\n",
    "\n",
    "#print logweights\n",
    "PRINT ARG=opes.bias FILE=Tprime STRIDE=1\n",
    "\n",
    "# Print \n",
    "# STRIDE=200 so that the printed time is in 1 ps\n",
    "PRINT FMT=%g STRIDE=200 FILE=COLVAR ARG=deep.node-0,deep.node-1,p.x,p.y,ene.bias,opes.*\n",
    "\n",
    "ENDPLUMED\n",
    "\"\"\",file=file)\n",
    "\n",
    "#-- write input files for ves module --#\n",
    "generate_input_file(name_file=folder+\"input\",nstep=sim_parameters[\"nstep\"],temp=sim_parameters[\"temp\"],\n",
    "                    friction=sim_parameters[\"friction\"],random_seed=sim_parameters[\"plumedseed\"],\n",
    "                    initial_position=sim_parameters[\"initial_position\"])\n",
    "write_coeff(\"0\",folder+\"input\")\n",
    "\n",
    "#-- move necessary files for ves module --#\n",
    "execute(\"mv pot_coeffs_input.data \"+folder,folder=\".\")\n",
    "#-- run plumed --#\n",
    "#execute(\"plumed ves_md_linearexpansion input\",folder=folder)"
   ]
  },
  {
   "cell_type": "markdown",
   "metadata": {},
   "source": [
    "# Tprime Analysis \n",
    "```py\n",
    "def tprime_evaluation(t=None,logweights=None):\n",
    "\n",
    "    # rescale time with log-weights if given\n",
    "    if logweights is not None:\n",
    "        # compute time increment in simulation time t\n",
    "        dt = np.round(t[1]-t[0],3)\n",
    "        # sanitize logweights\n",
    "        logweights = torch.Tensor(logweights)\n",
    "        logweights -= torch.max(logweights)\n",
    "        lognorm = torch.logsumexp(logweights,0)\n",
    "        logweights /= lognorm\n",
    "        # compute instantaneus time increment in rescaled time t'\n",
    "        d_tprime = torch.exp(logweights)*dt\n",
    "        # calculate cumulative time t'\n",
    "        tprime = torch.cumsum(d_tprime,0)\n",
    "    else:\n",
    "        tprime = t\n",
    "\n",
    "    return tprime\n",
    "```"
   ]
  },
  {
   "cell_type": "code",
   "execution_count": 10,
   "metadata": {},
   "outputs": [
    {
     "data": {
      "text/plain": [
       "<matplotlib.legend.Legend at 0x7f885835d9d0>"
      ]
     },
     "execution_count": 10,
     "metadata": {},
     "output_type": "execute_result"
    },
    {
     "data": {
      "image/png": "[encoded data removed]",
      "text/plain": [
       "<Figure size 432x288 with 1 Axes>"
      ]
     },
     "metadata": {
      "needs_background": "light"
     },
     "output_type": "display_data"
    }
   ],
   "source": [
    "#-- Tprime file rimosso.. per questa run 286 MB --#\n",
    "data = load_dataframe(folder+\"COLVAR\")\n",
    "descriptors_names = data.filter(regex='^p.').columns.values\n",
    "time_data = load_dataframe(folder+\"Tprime\")\n",
    "X = data[descriptors_names].to_numpy()\n",
    "\n",
    "tprime = (tprime_evaluation(t=time_data[\"time\"],logweights = 2*time_data[\"opes.bias\"])).numpy()\n",
    "# stride di 200 \n",
    "size = int(len(tprime)/200)\n",
    "tprime = tprime[::200]\n",
    "t = np.linspace(0,len(tprime),len(tprime))\n",
    "plt.plot(t,tprime,label=\"saved every time step\")\n",
    "tprime = tprime_evaluation(t=data[\"time\"], logweights = 2*data[\"opes.bias\"]).numpy()\n",
    "t = np.linspace(0,len(tprime),len(tprime))\n",
    "plt.plot(t,tprime,label=\"from COLVAR\")\n",
    "plt.xlabel(\"simulation time\")\n",
    "plt.ylabel(\"rescaled time\")\n",
    "plt.legend()"
   ]
  },
  {
   "cell_type": "code",
   "execution_count": null,
   "metadata": {},
   "outputs": [],
   "source": [
    "#-- estimation of Free Energy Surface 1D --#\n",
    "s = load_dataframe(folder+\"COLVAR\").filter(regex=\"^p\").to_numpy()\n",
    "logweight= np.transpose( load_dataframe(folder+\"COLVAR\").filter(regex=\"^opes.bias$\").to_numpy() )[0]/sim_parameters[\"temp\"]\n",
    "\n",
    "fig, ax = plt.subplots(figsize=(10,6))\n",
    "for i in range(2):\n",
    "    fes,grid,bounds,error = compute_fes(s[:,i], weights=np.exp(logweight),\n",
    "                                        kbt=sim_parameters[\"temp\"],\n",
    "                                        blocks=sim_parameters[\"blocks\"],\n",
    "                                        bandwidth=sim_parameters[\"bandwidth\"],scale_by='range',\n",
    "                                        plot=True, plot_max_fes=sim_parameters[\"plot_max_fes\"], ax = ax)\n",
    "ax.legend([\"F(x) estimate\",\"F(y) estimate\"])   \n",
    "ax.grid()\n",
    "ax.set_xlabel(r\"$(x,y)$\")\n",
    "ax.set_ylabel(\"FES [KbT]\")\n",
    "\n",
    "plt.tight_layout()\n",
    "plt.show()"
   ]
  },
  {
   "cell_type": "code",
   "execution_count": null,
   "metadata": {},
   "outputs": [],
   "source": [
    "data = load_dataframe(folder+\"COLVAR\")\n",
    "descriptors_names = data.filter(regex='^p').columns.values\n",
    "\n",
    "fig,axs = plt.subplots(1,2,figsize=(8,4),sharey=True)\n",
    "\n",
    "for ax,desc in zip(axs.flatten(),descriptors_names):\n",
    "    data[desc].plot.hist(bins=50,alpha=1,ax=ax,legend=False,grid=True,histtype='step',linewidth=2,density=True)\n",
    "    data[desc].plot.hist(bins=50,alpha=0.5,ax=ax,legend=False,grid=True,color=\"grey\",density=True)\n",
    "    ax.set_title(desc)\n",
    "\n",
    "fig,axs = plt.subplots(1,2,figsize=(12,6))\n",
    "\n",
    "for ax,desc in zip(axs.flatten(),descriptors_names):\n",
    "    data[::10].plot.scatter(x=\"time\",y=desc,alpha=1,ax=ax,legend=False,grid=True,linewidth=2,marker=\"^\")\n",
    "    data[::10].plot.line(x=\"time\",y=desc,alpha=1,ax=ax,legend=False,grid=True,color=\"grey\")\n",
    "    ax.set_title(desc)\n",
    "\n",
    "plt.tight_layout()"
   ]
  },
  {
   "cell_type": "code",
   "execution_count": null,
   "metadata": {},
   "outputs": [],
   "source": [
    "#-- TRAINING PARAMETERS --#\n",
    "n_output = 2\n",
    "n_input = 2\n",
    "train_parameters = {\n",
    "              'descriptors': '^p.',\n",
    "              'nodes':[n_input,10,n_output], \n",
    "              'activ_type': 'tanh',\n",
    "              'lag_time':1,\n",
    "              'loss_type': 'sum', \n",
    "              'n_eig': n_output,\n",
    "              'trainsize':0.7,\n",
    "              'lrate':1e-3,\n",
    "              'l2_reg':0.,\n",
    "              'num_epochs':1000,\n",
    "              'earlystop':True,\n",
    "              'es_patience':100,\n",
    "              'es_consecutive':False,\n",
    "              'standardize_outputs':True,\n",
    "              'standardize_inputs': True,\n",
    "              'log_every':50,\n",
    "              #if reweight the timescale\n",
    "              \"reweighting\": True,\n",
    "              }\n",
    "#--------------------------------------#"
   ]
  },
  {
   "cell_type": "markdown",
   "metadata": {},
   "source": [
    "## DeepTICA Analysis and Export"
   ]
  },
  {
   "cell_type": "code",
   "execution_count": null,
   "metadata": {},
   "outputs": [],
   "source": [
    "torch.manual_seed(21)\n",
    "model,data,logweight,X = training(sim_parameters[\"temp\"],folder+\"COLVAR\",train_parameters,tprime=tprime)\n",
    "\n",
    "#-- move the model back to cpu for convenience --# \n",
    "model.to('cpu')\n",
    "\n",
    "#-- print some useful results --#\n",
    "print(\"timescales: \",model.tica.timescales(train_parameters[\"lag_time\"]).detach().cpu().numpy()) \n",
    "print(\"eigenvalues: \",model.tica.evals_.detach().cpu().numpy())"
   ]
  },
  {
   "cell_type": "code",
   "execution_count": null,
   "metadata": {},
   "outputs": [],
   "source": [
    "plot_model_lossfunction(model)"
   ]
  },
  {
   "cell_type": "markdown",
   "metadata": {},
   "source": [
    "#### Adding to data the cvs values"
   ]
  },
  {
   "cell_type": "code",
   "execution_count": null,
   "metadata": {},
   "outputs": [],
   "source": [
    "data[\"cv1\"] = np.transpose(model(torch.Tensor(X)).detach().cpu().numpy())[0]\n",
    "data[\"cv2\"] = np.transpose(model(torch.Tensor(X)).detach().cpu().numpy())[1]"
   ]
  },
  {
   "cell_type": "code",
   "execution_count": null,
   "metadata": {},
   "outputs": [],
   "source": [
    "fig,axs = plt.subplots(1,2,figsize=(8,4),sharey=True)\n",
    "data.plot.hist(y=\"cv1\",bins=20,ax=axs[0],density=True,color=\"b\")\n",
    "data.plot.hist(y=\"cv2\",bins=20,ax=axs[1],density=True,color=\"r\")"
   ]
  },
  {
   "cell_type": "markdown",
   "metadata": {},
   "source": [
    "### FES estimate from new cvs  "
   ]
  },
  {
   "cell_type": "code",
   "execution_count": null,
   "metadata": {},
   "outputs": [],
   "source": [
    "#-- estimation of Free Energy Surface --#\n",
    "s = data.filter(regex=\"^cv\").to_numpy()\n",
    "fig, ax = plt.subplots(figsize=(6,6))\n",
    "for i in range(2):\n",
    "    fes,grid,bounds,error = compute_fes(s[:,i], weights=np.exp(logweight),\n",
    "                                        kbt=sim_parameters[\"temp\"],\n",
    "                                        blocks=sim_parameters[\"blocks\"],\n",
    "                                        bandwidth=sim_parameters[\"bandwidth\"],scale_by='range',\n",
    "                                        plot=True, plot_max_fes=sim_parameters[\"plot_max_fes\"], ax = ax)\n",
    "ax.legend([\"F(cv1) estimate\",\"F(cv2) estimate\"])   \n",
    "ax.grid()\n",
    "plt.tight_layout()\n",
    "ax.set_xlabel(r\"$(cv1,cv2)$\")\n",
    "ax.set_ylabel(\"FES [KbT]\")\n",
    "ax.set_title(\"FES New Deep TICA cvs\")\n",
    "\n",
    "plt.show()"
   ]
  },
  {
   "cell_type": "markdown",
   "metadata": {},
   "source": [
    "### Isolines  \n",
    "We are working with a two dimensional Potential, and we are using as descriptors the two cartesian coordinates. This allows us to plot the isolines of the cvs on the physical space $(x,y)$    "
   ]
  },
  {
   "cell_type": "code",
   "execution_count": null,
   "metadata": {},
   "outputs": [],
   "source": [
    "#plot_cvs_isolines(model,limits=((-1.8,1.2),(-0.3,2.1)),scatter=X)\n",
    "lim = ((np.min(X[:,0]),np.max(X[:,0])),(np.min(X[:,1]),np.max(X[:,1])))\n",
    "plot_cvs_isolines(model,limits=lim,scatter=X)"
   ]
  },
  {
   "cell_type": "code",
   "execution_count": null,
   "metadata": {},
   "outputs": [],
   "source": [
    "fig,axs = plt.subplots(1,2,figsize=(12,6))\n",
    "for k,ax in enumerate(axs):\n",
    "    data.plot.scatter(y=\"p.y\",x=\"p.x\",c=\"cv\"+str(k+1),cmap=\"viridis\",ax=ax)\n",
    "    ax.set_title('Deep-TICA '+str(k+1))\n",
    "plt.tight_layout()"
   ]
  },
  {
   "cell_type": "markdown",
   "metadata": {},
   "source": [
    "### Orthogonality  \n",
    "Now we want to estimate the scalar product of the Deep-TICA Cvs. In this case we have to reweight the integrale, because our points are distributed according to $p(\\vec x) = \\dfrac{e^{-\\beta ( U(\\vec x) + V (\\vec cv(\\vec x)))}}{\\mathcal{Z}}$. Then finally the scalar product is computed from the following integral $\\int d \\vec x \\psi_1(\\vec x) \\psi_2(\\vec x) e^{-\\beta ( U(\\vec x) + V (\\vec cv(\\vec x)))} e^{\\beta ( V(\\vec cv(\\vec x))}$.  \n",
    "  \n",
    "Even in this case, as already observed their scalar product on the data will lead to a result slightly different from $0$, due to the enforced simmetryzation of $C(\\tau)$"
   ]
  },
  {
   "cell_type": "code",
   "execution_count": null,
   "metadata": {},
   "outputs": [],
   "source": [
    "Boltzmann_product(model,model,X,j=0,k=1,logweight=logweight)"
   ]
  },
  {
   "cell_type": "markdown",
   "metadata": {},
   "source": [
    "## $\\Delta F$ Estimate"
   ]
  },
  {
   "cell_type": "code",
   "execution_count": null,
   "metadata": {},
   "outputs": [],
   "source": [
    "res = 3.841414368598573\n",
    "#-- each step is 1ps --#\n",
    "#-- we are interested in the first 50 ns --#\n",
    "last = 1*1000*1#0 #last ns\n",
    "data = load_dataframe(folder+\"COLVAR\").filter(regex=\"^p.x\").to_numpy()[:last]\n",
    "logweight= np.transpose( load_dataframe(folder+\"COLVAR\").filter(regex=\"^opes.bias$\").to_numpy() )[0][:last]\n",
    "logweight= (logweight-np.max(logweight))/sim_parameters[\"temp\"]\n",
    "#-- each step is 1ps --#\n",
    "#-- with CLEAR set to 1000 I perform the estimation every ns --#\n",
    "CLEAR=500\n",
    "\n",
    "deltaf = np.empty(0)\n",
    "for el in np.arange(CLEAR,len(data)+CLEAR,CLEAR):\n",
    "    s = data[:el]\n",
    "    weight = np.exp(logweight[:el])\n",
    "    fes,grid,bounds,error = compute_fes(s, weights=weight,\n",
    "                                        kbt=sim_parameters[\"temp\"],\n",
    "                                        blocks=2,\n",
    "                                        bandwidth=sim_parameters[\"bandwidth\"],scale_by='range',\n",
    "                                        plot=False)\n",
    "    ind1 = (grid<0) & (grid>-1.3)\n",
    "    ind2 = (grid>0) & (grid<1)\n",
    "    grid1 = grid[ ind1 ]\n",
    "    grid2 = grid[ ind2 ] \n",
    "    I1 = integrate.trapz(np.exp(-fes[ind1]/sim_parameters[\"temp\"]), grid1)\n",
    "    I2 = integrate.trapz(np.exp(-fes[ind2]/sim_parameters[\"temp\"]), grid2)\n",
    "    \n",
    "    deltaf = np.append(deltaf,(sim_parameters[\"temp\"])*np.log(I1/I2))\n",
    "\n",
    "fig,ax = plt.subplots(1,1,figsize=(8,6))\n",
    "ax.plot(np.arange(len(deltaf)),deltaf,label=\"Estimate\")\n",
    "res = np.full(len(deltaf),res)\n",
    "err = np.full(len(deltaf),0.5*sim_parameters[\"temp\"])\n",
    "ax.plot(np.arange(len(deltaf)),res,linestyle='--',linewidth=3,color=\"g\",label=\"ref\")\n",
    "ax.fill_between(np.arange(len(deltaf)) , res-err, res+err , color=\"r\",zorder=0,alpha=0.3)\n",
    "ax.grid()\n",
    "ax.legend()\n",
    "ax.grid()\n",
    "ax.set_xlabel(r\"$t$ [ps$\\times$\"+str(CLEAR)+\"]\")\n",
    "ax.set_ylabel(r\"$\\Delta F$ [kbT]\")\n",
    "txt = \"shadow error of 0.5KbT\"\n",
    "# center text\n",
    "fig.text(.5, -.03, txt, ha='center')"
   ]
  }
 ],
 "metadata": {
  "kernelspec": {
   "display_name": "Python 3 (ipykernel)",
   "language": "python",
   "name": "python3"
  },
  "language_info": {
   "codemirror_mode": {
    "name": "ipython",
    "version": 3
   },
   "file_extension": ".py",
   "mimetype": "text/x-python",
   "name": "python",
   "nbconvert_exporter": "python",
   "pygments_lexer": "ipython3",
   "version": "3.7.9"
  }
 },
 "nbformat": 4,
 "nbformat_minor": 4
}
